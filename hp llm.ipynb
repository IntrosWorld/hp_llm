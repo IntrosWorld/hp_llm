{
  "nbformat": 4,
  "nbformat_minor": 0,
  "metadata": {
    "colab": {
      "provenance": []
    },
    "kernelspec": {
      "name": "python3",
      "display_name": "Python 3"
    },
    "language_info": {
      "name": "python"
    }
  },
  "cells": [
    {
      "cell_type": "markdown",
      "source": [
        "I am using this dataset: https://www.kaggle.com/datasets/rupanshukapoor/harry-potter-books"
      ],
      "metadata": {
        "id": "tCKM0R0cVks0"
      }
    },
    {
      "cell_type": "code",
      "execution_count": 2,
      "metadata": {
        "id": "2LfLsI8j7iM_"
      },
      "outputs": [],
      "source": [
        "#Read the input file\n",
        "with open(\"Harry_potter_book_1.txt\", 'r', encoding='utf-8') as f:\n",
        "    lines = f.readlines()"
      ]
    },
    {
      "cell_type": "code",
      "source": [
        "for i in range(min(32, len(lines))):\n",
        "    print(f\"{i+1:>2}: {lines[i].strip()}\")\n"
      ],
      "metadata": {
        "colab": {
          "base_uri": "https://localhost:8080/"
        },
        "id": "uKPtLpTy9Ykf",
        "outputId": "cb7925e3-45d1-41d6-9391-d168823c3f7e"
      },
      "execution_count": 3,
      "outputs": [
        {
          "output_type": "stream",
          "name": "stdout",
          "text": [
            " 1: THE BOY WHO LIVED\n",
            " 2: \n",
            " 3: Mr. and Mrs. Dursley, of number four, Privet Drive,\n",
            " 4: were proud to say that they were perfectly normal,\n",
            " 5: thank you very much. They were the last people you’d\n",
            " 6: expect to be involved in anything strange or\n",
            " 7: mysterious, because they just didn’t hold with such\n",
            " 8: nonsense.\n",
            " 9: \n",
            "10: Mr. Dursley was the director of a firm called\n",
            "11: Grunnings, which made drills. He was a big, beefy\n",
            "12: man with hardly any neck, although he did have a\n",
            "13: very large mustache. Mrs. Dursley was thin and\n",
            "14: blonde and had nearly twice the usual amount of\n",
            "15: neck, which came in very useful as she spent so\n",
            "16: much of her time craning over garden fences, spying\n",
            "17: on the neighbors. The Dursley s had a small son\n",
            "18: called Dudley and in their opinion there was no finer\n",
            "19: boy anywhere.\n",
            "20: \n",
            "21: The Dursleys had everything they wanted, but they\n",
            "22: also had a secret, and their greatest fear was that\n",
            "23: somebody would discover it. They didn’t think they\n",
            "24: could bear it if anyone found out about the Potters.\n",
            "25: Mrs. Potter was Mrs. Dursley’s sister, but they hadn’t\n",
            "26: \n",
            "27: Page | 2 Harry Potter and the Philosophers Stone - J.K. Rowling\n",
            "28: \n",
            "29: \n",
            "30: \n",
            "31: met for several years; in fact, Mrs. Dursley pretended\n",
            "32: she didn’t have a sister, because her sister and her\n"
          ]
        }
      ]
    },
    {
      "cell_type": "markdown",
      "source": [
        "Then I will format the text accordingly suitable for fine tuning, I am planning to keep all paragraph in one single line and seaparated by an empty line so basically two paragraphs get separated by /n/n"
      ],
      "metadata": {
        "id": "AIXPLsFGVxxK"
      }
    },
    {
      "cell_type": "code",
      "source": [
        "#Remove empty lines after and before the line Harry Potter and the Philosophers Stone - J.K. Rowling and that line\n",
        "cleaned = []\n",
        "i = 0\n",
        "while i < len(lines):\n",
        "    line = lines[i].strip()\n",
        "\n",
        "    if \"Harry Potter and the Philosophers Stone - J.K. Rowling\" in line:\n",
        "        while cleaned and cleaned[-1].strip() == \"\":\n",
        "            cleaned.pop()\n",
        "        i += 1\n",
        "        while i < len(lines) and lines[i].strip() == \"\":\n",
        "            i += 1\n",
        "        continue\n",
        "\n",
        "    cleaned.append(line)\n",
        "    i += 1"
      ],
      "metadata": {
        "id": "1USGPF1u9Ai5"
      },
      "execution_count": 4,
      "outputs": []
    },
    {
      "cell_type": "code",
      "source": [
        "for i in range(min(32, len(cleaned))):\n",
        "    print(f\"{i+1:>2}: {cleaned[i]}\")"
      ],
      "metadata": {
        "colab": {
          "base_uri": "https://localhost:8080/"
        },
        "id": "PPUuN8909twJ",
        "outputId": "65d0604b-90b5-49d4-e602-58abd87e1a58"
      },
      "execution_count": 5,
      "outputs": [
        {
          "output_type": "stream",
          "name": "stdout",
          "text": [
            " 1: THE BOY WHO LIVED\n",
            " 2: \n",
            " 3: Mr. and Mrs. Dursley, of number four, Privet Drive,\n",
            " 4: were proud to say that they were perfectly normal,\n",
            " 5: thank you very much. They were the last people you’d\n",
            " 6: expect to be involved in anything strange or\n",
            " 7: mysterious, because they just didn’t hold with such\n",
            " 8: nonsense.\n",
            " 9: \n",
            "10: Mr. Dursley was the director of a firm called\n",
            "11: Grunnings, which made drills. He was a big, beefy\n",
            "12: man with hardly any neck, although he did have a\n",
            "13: very large mustache. Mrs. Dursley was thin and\n",
            "14: blonde and had nearly twice the usual amount of\n",
            "15: neck, which came in very useful as she spent so\n",
            "16: much of her time craning over garden fences, spying\n",
            "17: on the neighbors. The Dursley s had a small son\n",
            "18: called Dudley and in their opinion there was no finer\n",
            "19: boy anywhere.\n",
            "20: \n",
            "21: The Dursleys had everything they wanted, but they\n",
            "22: also had a secret, and their greatest fear was that\n",
            "23: somebody would discover it. They didn’t think they\n",
            "24: could bear it if anyone found out about the Potters.\n",
            "25: Mrs. Potter was Mrs. Dursley’s sister, but they hadn’t\n",
            "26: met for several years; in fact, Mrs. Dursley pretended\n",
            "27: she didn’t have a sister, because her sister and her\n",
            "28: good-for-nothing husband were as unDursleyish as it\n",
            "29: was possible to be. The Dursleys shuddered to think\n",
            "30: what the neighbors would say if the Potters arrived in\n",
            "31: the street. The Dursleys knew that the Potters had a\n",
            "32: small son, too, but they had never even seen him.\n"
          ]
        }
      ]
    },
    {
      "cell_type": "code",
      "source": [
        "#writing all paragraphs in single one line\n",
        "paras = []\n",
        "temp = []\n",
        "\n",
        "for line in cleaned:\n",
        "    if line.strip() == \"\":\n",
        "        if temp:\n",
        "            paras.append(\" \".join(temp) + \"\\n\\n\")\n",
        "            temp = []\n",
        "    else:\n",
        "        temp.append(line.strip())\n",
        "\n",
        "if temp:\n",
        "    paras.append(\" \".join(temp) + \"\\n\\n\")"
      ],
      "metadata": {
        "id": "OYy_Y5zV9vS_"
      },
      "execution_count": 6,
      "outputs": []
    },
    {
      "cell_type": "code",
      "source": [
        "full_text = \"\".join(paras)\n",
        "lines = full_text.split(\"\\n\")\n",
        "\n",
        "for i in range(min(32, len(lines))):\n",
        "    print(f\"{i+1}. {lines[i]}\")\n"
      ],
      "metadata": {
        "colab": {
          "base_uri": "https://localhost:8080/"
        },
        "id": "XpS-g-tZ-YF8",
        "outputId": "5c8db43d-4757-4905-b96c-468df61c9c85"
      },
      "execution_count": 7,
      "outputs": [
        {
          "output_type": "stream",
          "name": "stdout",
          "text": [
            "1. THE BOY WHO LIVED\n",
            "2. \n",
            "3. Mr. and Mrs. Dursley, of number four, Privet Drive, were proud to say that they were perfectly normal, thank you very much. They were the last people you’d expect to be involved in anything strange or mysterious, because they just didn’t hold with such nonsense.\n",
            "4. \n",
            "5. Mr. Dursley was the director of a firm called Grunnings, which made drills. He was a big, beefy man with hardly any neck, although he did have a very large mustache. Mrs. Dursley was thin and blonde and had nearly twice the usual amount of neck, which came in very useful as she spent so much of her time craning over garden fences, spying on the neighbors. The Dursley s had a small son called Dudley and in their opinion there was no finer boy anywhere.\n",
            "6. \n",
            "7. The Dursleys had everything they wanted, but they also had a secret, and their greatest fear was that somebody would discover it. They didn’t think they could bear it if anyone found out about the Potters. Mrs. Potter was Mrs. Dursley’s sister, but they hadn’t met for several years; in fact, Mrs. Dursley pretended she didn’t have a sister, because her sister and her good-for-nothing husband were as unDursleyish as it was possible to be. The Dursleys shuddered to think what the neighbors would say if the Potters arrived in the street. The Dursleys knew that the Potters had a small son, too, but they had never even seen him.\n",
            "8. \n",
            "9. This boy was another good reason for keeping the Potters away; they didn’t want Dudley mixing with a child like that.\n",
            "10. \n",
            "11. When Mr. and Mrs. Dursley woke up on the dull, gray Tuesday our story starts, there was nothing about the cloudy sky outside to suggest that strange and mysterious things would soon be happening all over the country. Mr. Dursley hummed as he picked out his most boring tie for work, and Mrs. Dursley gossiped away happily as she wrestled a screaming Dudley into his high chair.\n",
            "12. \n",
            "13. None of them noticed a large, tawny owl flutter past the window.\n",
            "14. \n",
            "15. At half past eight, Mr. Dursley picked up his briefcase, pecked Mrs. Dursley on the cheek, and tried to kiss Dudley good-bye but missed, because Dudley was now having a tantrum and throwing his cereal at the walls. “Little tyke,” chortled Mr. Dursley as he left the house. He got into his car and backed out of number four’s drive.\n",
            "16. \n",
            "17. It was on the corner of the street that he noticed the first sign of something peculiar — a cat reading a map. For a second, Mr. Dursley didn’t realize what he had seen — then he jerked his head around to look again. There was a tabby cat standing on the corner of Privet Drive, but there wasn’t a map in sight. What could he have been thinking of? It must have been a trick of the light. Mr. Dursley blinked and stared at the cat. It stared back. As Mr. Dursley drove around the corner and up the road, he watched the cat in his mirror. It was now reading the sign that said Privet Drive — no, looking at the sign; cats couldn’t read maps or signs. Mr. Dursley gave himself a little shake and put the cat out of his mind. As he drove toward town he thought of nothing except a large order of drills he was hoping to get that day.\n",
            "18. \n",
            "19. But on the edge of town, drills were driven out of his mind by something else. As he sat in the usual morning traffic jam, he couldn’t help noticing that there seemed to be a lot of strangely dressed people about. People in cloaks. Mr. Dursley couldn’t bear people who dressed in funny clothes — the getups you saw on young people! He supposed this was some stupid new fashion. He drummed his fingers on the steering wheel and his eyes fell on a huddle of these weirdos standing quite close by. They were whispering excitedly together. Mr. Dursley was enraged to see that a couple of them weren’t young at all; why, that man had to be older than he was, and wearing an emerald-green cloak! The nerve of him! But then it struck Mr. Dursley that this was probably some silly stunt — these people were obviously collecting for something ... yes, that would be it. The traffic moved on and a few minutes later, Mr. Dursley arrived in the Grunnings parking lot, his mind back on drills.\n",
            "20. \n",
            "21. Mr. Dursley always sat with his back to the window in his office on the ninth floor. If he hadn’t, he might have found it harder to concentrate on drills that morning. He didn’t see the owls swooping past in broad daylight, though people down in the street did; they pointed and gazed open-mouthed as owl after owl sped overhead. Most of them had never seen an owl even at nighttime. Mr. Dursley, however, had a perfectly normal, owl-free morning. He yelled at five different people. He made several important telephone calls and shouted a bit more. He was in a very good mood until lunchtime, when he thought he’d stretch his legs and walk across the road to buy himself a bun from the bakery.\n",
            "22. \n",
            "23. He’d forgotten all about the people in cloaks until he passed a group of them next to the baker’s. He eyed them angrily as he passed. He didn’t know why, but they made him uneasy. This bunch were whispering excitedly, too, and he couldn’t see a single collecting tin. It was on his way back past them, clutching a large doughnut in a bag, that he caught a few words of what they were saying.\n",
            "24. \n",
            "25. “The Potters, that’s right, that’s what I heard — ”\n",
            "26. \n",
            "27. “ — yes, their son, Harry — ”\n",
            "28. \n",
            "29. Mr. Dursley stopped dead. Fear flooded him. He looked back at the whisperers as if he wanted to say something to them, but thought better of it.\n",
            "30. \n",
            "31. He dashed back across the road, hurried up to his office, snapped at his secretary not to disturb him, seized his telephone, and had almost finished dialing his home number when he changed his mind. He put the receiver back down and stroked his mustache, thinking ... no, he was being stupid. Potter wasn’t such an unusual name. He was sure there were lots of people called Potter who had a son called Harry. Come to think of it, he wasn’t even sure his nephew was called Harry. He’d never even seen the boy. It might have been Harvey. Or Harold. There was no point in worrying Mrs. Dursley; she always got so upset at any mention of her sister. He didn’t blame her — if he’d had a sister like that ... but all the same, those people in cloaks ... He found it a lot harder to concentrate on drills that afternoon and when he left the building at five o’clock, he was still so worried that he walked straight into someone just outside the door.\n",
            "32. \n"
          ]
        }
      ]
    },
    {
      "cell_type": "code",
      "source": [
        "print(paras[:200])"
      ],
      "metadata": {
        "colab": {
          "base_uri": "https://localhost:8080/"
        },
        "id": "DzvpRxOZHEaB",
        "outputId": "10de7936-c096-4b91-d409-c41f8eea8bc4"
      },
      "execution_count": 12,
      "outputs": [
        {
          "output_type": "stream",
          "name": "stdout",
          "text": [
            "['THE BOY WHO LIVED\\n\\n', 'Mr. and Mrs. Dursley, of number four, Privet Drive, were proud to say that they were perfectly normal, thank you very much. They were the last people you’d expect to be involved in anything strange or mysterious, because they just didn’t hold with such nonsense.\\n\\n', 'Mr. Dursley was the director of a firm called Grunnings, which made drills. He was a big, beefy man with hardly any neck, although he did have a very large mustache. Mrs. Dursley was thin and blonde and had nearly twice the usual amount of neck, which came in very useful as she spent so much of her time craning over garden fences, spying on the neighbors. The Dursley s had a small son called Dudley and in their opinion there was no finer boy anywhere.\\n\\n', 'The Dursleys had everything they wanted, but they also had a secret, and their greatest fear was that somebody would discover it. They didn’t think they could bear it if anyone found out about the Potters. Mrs. Potter was Mrs. Dursley’s sister, but they hadn’t met for several years; in fact, Mrs. Dursley pretended she didn’t have a sister, because her sister and her good-for-nothing husband were as unDursleyish as it was possible to be. The Dursleys shuddered to think what the neighbors would say if the Potters arrived in the street. The Dursleys knew that the Potters had a small son, too, but they had never even seen him.\\n\\n', 'This boy was another good reason for keeping the Potters away; they didn’t want Dudley mixing with a child like that.\\n\\n', 'When Mr. and Mrs. Dursley woke up on the dull, gray Tuesday our story starts, there was nothing about the cloudy sky outside to suggest that strange and mysterious things would soon be happening all over the country. Mr. Dursley hummed as he picked out his most boring tie for work, and Mrs. Dursley gossiped away happily as she wrestled a screaming Dudley into his high chair.\\n\\n', 'None of them noticed a large, tawny owl flutter past the window.\\n\\n', 'At half past eight, Mr. Dursley picked up his briefcase, pecked Mrs. Dursley on the cheek, and tried to kiss Dudley good-bye but missed, because Dudley was now having a tantrum and throwing his cereal at the walls. “Little tyke,” chortled Mr. Dursley as he left the house. He got into his car and backed out of number four’s drive.\\n\\n', 'It was on the corner of the street that he noticed the first sign of something peculiar — a cat reading a map. For a second, Mr. Dursley didn’t realize what he had seen — then he jerked his head around to look again. There was a tabby cat standing on the corner of Privet Drive, but there wasn’t a map in sight. What could he have been thinking of? It must have been a trick of the light. Mr. Dursley blinked and stared at the cat. It stared back. As Mr. Dursley drove around the corner and up the road, he watched the cat in his mirror. It was now reading the sign that said Privet Drive — no, looking at the sign; cats couldn’t read maps or signs. Mr. Dursley gave himself a little shake and put the cat out of his mind. As he drove toward town he thought of nothing except a large order of drills he was hoping to get that day.\\n\\n', 'But on the edge of town, drills were driven out of his mind by something else. As he sat in the usual morning traffic jam, he couldn’t help noticing that there seemed to be a lot of strangely dressed people about. People in cloaks. Mr. Dursley couldn’t bear people who dressed in funny clothes — the getups you saw on young people! He supposed this was some stupid new fashion. He drummed his fingers on the steering wheel and his eyes fell on a huddle of these weirdos standing quite close by. They were whispering excitedly together. Mr. Dursley was enraged to see that a couple of them weren’t young at all; why, that man had to be older than he was, and wearing an emerald-green cloak! The nerve of him! But then it struck Mr. Dursley that this was probably some silly stunt — these people were obviously collecting for something ... yes, that would be it. The traffic moved on and a few minutes later, Mr. Dursley arrived in the Grunnings parking lot, his mind back on drills.\\n\\n', 'Mr. Dursley always sat with his back to the window in his office on the ninth floor. If he hadn’t, he might have found it harder to concentrate on drills that morning. He didn’t see the owls swooping past in broad daylight, though people down in the street did; they pointed and gazed open-mouthed as owl after owl sped overhead. Most of them had never seen an owl even at nighttime. Mr. Dursley, however, had a perfectly normal, owl-free morning. He yelled at five different people. He made several important telephone calls and shouted a bit more. He was in a very good mood until lunchtime, when he thought he’d stretch his legs and walk across the road to buy himself a bun from the bakery.\\n\\n', 'He’d forgotten all about the people in cloaks until he passed a group of them next to the baker’s. He eyed them angrily as he passed. He didn’t know why, but they made him uneasy. This bunch were whispering excitedly, too, and he couldn’t see a single collecting tin. It was on his way back past them, clutching a large doughnut in a bag, that he caught a few words of what they were saying.\\n\\n', '“The Potters, that’s right, that’s what I heard — ”\\n\\n', '“ — yes, their son, Harry — ”\\n\\n', 'Mr. Dursley stopped dead. Fear flooded him. He looked back at the whisperers as if he wanted to say something to them, but thought better of it.\\n\\n', 'He dashed back across the road, hurried up to his office, snapped at his secretary not to disturb him, seized his telephone, and had almost finished dialing his home number when he changed his mind. He put the receiver back down and stroked his mustache, thinking ... no, he was being stupid. Potter wasn’t such an unusual name. He was sure there were lots of people called Potter who had a son called Harry. Come to think of it, he wasn’t even sure his nephew was called Harry. He’d never even seen the boy. It might have been Harvey. Or Harold. There was no point in worrying Mrs. Dursley; she always got so upset at any mention of her sister. He didn’t blame her — if he’d had a sister like that ... but all the same, those people in cloaks ... He found it a lot harder to concentrate on drills that afternoon and when he left the building at five o’clock, he was still so worried that he walked straight into someone just outside the door.\\n\\n', '“Sorry,” he grunted, as the tiny old man stumbled and almost fell. It was a few seconds before Mr. Dursley realized that the man was wearing a violet cloak. He didn’t seem at all upset at being almost knocked to the ground. On the contrary, his face split into a wide smile and he said in a squeaky voice that made passersby stare, “Don’t be sorry, my dear sir, for nothing could upset me today! Rejoice, for You- Know-Who has gone at last! Even Muggles like yourself should be celebrating, this happy, happy day!”\\n\\n', 'And the old man hugged Mr. Dursley around the middle and walked off.\\n\\n', 'Mr. Dursley stood rooted to the spot. He had been hugged by a complete stranger. He also thought he had been called a Muggle, whatever that was. He was rattled. He hurried to his car and set off for home, hoping he was imagining things, which he had never hoped before, because he didn’t approve of imagination.\\n\\n', 'As he pulled into the driveway of number four, the first thing he saw — and it didn’t improve his mood — was the tabby cat he’d spotted that morning. It was now sitting on his garden wall. He was sure it was the same one; it had the same markings around its eyes.\\n\\n', '“Shoo!” said Mr. Dursley loudly.\\n\\n', 'The cat didn’t move. It just gave him a stern look.\\n\\n', 'Was this normal cat behavior? Mr. Dursley wondered. Trying to pull himself together, he let himself into the house. He was still determined not to mention anything to his wife.\\n\\n', 'Mrs. Dursley had had a nice, normal day. She told him over dinner all about Mrs. Next Door’s problems with her daughter and how Dudley had learned a new word (“Won’t!”). Mr. Dursley tried to act normally. When Dudley had been put to bed, he went into the living room in time to catch the last report on the evening news:\\n\\n', '“And finally, bird-watchers everywhere have reported that the nation’s owls have been behaving very unusually today. Although owls normally hunt at night and are hardly ever seen in daylight, there have been hundreds of sightings of these birds flying in every direction since sunrise. Experts are unable to explain why the owls have suddenly changed their sleeping pattern.” The newscaster allowed himself a grin. “Most mysterious. And now, over to Jim McGuffin with the weather. Going to be any more showers of owls tonight, Jim?”\\n\\n', '“Well, Ted,” said the weatherman, “I don’t know about that, but it’s not only the owls that have been acting oddly today. Viewers as far apart as Kent, Yorkshire, and Dundee have been phoning in to tell me that instead of the rain I promised yesterday, they’ve had a downpour of shooting stars! Perhaps people have been celebrating Bonfire Night early — it’s not until next week, folks! But I can promise a wet night tonight.”\\n\\n', 'Mr. Dursley sat frozen in his armchair. Shooting stars all over Britain? Owls flying by daylight? Mysterious people in cloaks all over the place? And a whisper, a whisper about the Potters . . . Mrs. Dursley came into the living room carrying two cups of tea. It was no good. He’d have to say something to her. He cleared his throat nervously. “Er — Petunia, dear — you haven’t heard from your sister lately, have you?”\\n\\n', 'As he had expected, Mrs. Dursley looked shocked and angry. After all, they normally pretended she didn’t have a sister.\\n\\n', '“No,” she said sharply. “Why?”\\n\\n', '“Funny stuff on the news,” Mr. Dursley mumbled. “Owls . . . shooting stars . . . and there were a lot of funny-looking people in town today ...”\\n\\n', '“So?” snapped Mrs. Dursley.\\n\\n', '“Well, I just thought ... maybe ... it was something to do with ... you know ... her crowd.”\\n\\n', 'Mrs. Dursley sipped her tea through pursed lips. Mr. Dursley wondered whether he dared tell her he’d heard the name “Potter.” He decided he didn’t dare. Instead he said, as casually as he could, “Their son — he’d be about Dudley’s age now, wouldn’t he?”\\n\\n', '“I suppose so,” said Mrs. Dursley stiffly.\\n\\n', '“What’s his name again? Howard, isn’t it?”\\n\\n', '“Harry. Nasty, common name, if you ask me.”\\n\\n', '“Oh, yes,” said Mr. Dursley, his heart sinking horribly. “Yes, I quite agree.”\\n\\n', 'He didn’t say another word on the subject as they went upstairs to bed. While Mrs. Dursley was in the bathroom, Mr. Dursley crept to the bedroom window and peered down into the front garden. The cat was still there. It was staring down Privet Drive as though it were waiting for something.\\n\\n', 'Was he imagining things? Could all this have anything to do with the Potters? If it did ... if it got out that they were related to a pair of — well, he didn’t think he could bear it.\\n\\n', 'The Dursleys got into bed. Mrs. Dursley fell asleep quickly but Mr. Dursley lay awake, turning it all over in his mind. His last, comforting thought before he fell asleep was that even if the Potters were involved, there was no reason for them to come near him and Mrs. Dursley. The Potters knew very well what he and Petunia thought about them and their kind. ... He couldn’t see how he and Petunia could get mixed up in anything that might be going on — he yawned and turned over — it couldn’t affect them. ...\\n\\n', 'How very wrong he was.\\n\\n', 'Mr. Dursley might have been drifting into an uneasy sleep, but the cat on the wall outside was showing no sign of sleepiness. It was sitting as still as a statue, its eyes fixed unblinkingly on the far corner of Privet Drive. It didn’t so much as quiver when a car door slammed on the next street, nor when two owls swooped overhead. In fact, it was nearly midnight before the cat moved at all.\\n\\n', 'A man appeared on the corner the cat had been watching, appeared so suddenly and silently you’d have thought he’d just popped out of the ground. The cat’s tail twitched and its eyes narrowed.\\n\\n', 'Nothing like this man had ever been seen on Privet Drive. He was tall, thin, and very old, judging by the silver of his hair and beard, which were both long enough to tuck into his belt. He was wearing long robes, a purple cloak that swept the ground, and high-heeled, buckled boots. His blue eyes were light, bright, and sparkling behind half-moon spectacles and his nose was very long and crooked, as though it had been broken at least twice. This man’s name was Albus Dumbledore.\\n\\n', 'Albus Dumbledore didn’t seem to realize that he had just arrived in a street where everything from his name to his boots was unwelcome. He was busy rummaging in his cloak, looking for something. But he did seem to realize he was being watched, because he looked up suddenly at the cat, which was still staring at him from the other end of the street. For some reason, the sight of the cat seemed to amuse him. He chuckled and muttered, “I should have known.”\\n\\n', 'He found what he was looking for in his inside pocket. It seemed to be a silver cigarette lighter. He flicked it open, held it up in the air, and clicked it. The nearest street lamp went out with a little pop. He clicked it again — the next lamp flickered into darkness. Twelve times he clicked the Put-Outer, until the only lights left on the whole street were two tiny pinpricks in the distance, which were the eyes of the cat watching him. If anyone looked out of their window now, even beady-eyed Mrs. Dursley, they wouldn’t be able to see anything that was happening down on the pavement. Dumbledore slipped the Put- Outer back inside his cloak and set off down the street toward number four, where he sat down on the wall next to the cat. He didn’t look at it, but after a moment he spoke to it.\\n\\n', '“Fancy seeing you here, Professor McGonagall.” He turned to smile at the tabby, but it had gone. Instead he was smiling at a rather severe-looking woman who was wearing square glasses exactly the shape of the markings the cat had had around its eyes. She, too, was wearing a cloak, an emerald one. Her black hair was drawn into a tight bun. She looked distinctly ruffled.\\n\\n', '“How did you know it was me?” she asked.\\n\\n', '“My dear Professor, I’ve never seen a cat sit so stiffly.”\\n\\n', '“You’d be stiff if you’d been sitting on a brick wall all day,” said Professor McGonagall.\\n\\n', '“All day? When you could have been celebrating? I must have passed a dozen feasts and parties on my way here.”\\n\\n', 'Professor McGonagall sniffed angrily.\\n\\n', '“Oh yes, everyone’s celebrating, all right,” she said impatiently. “You’d think they’d be a bit more careful, but no — even the Muggles have noticed something’s going on. It was on their news.” She jerked her head back at the Dursleys’ dark living-room window. “I heard it. Flocks of owls ... shooting stars. ... Well, they’re not completely stupid. They were bound to notice something. Shooting stars down in Kent — I’ll bet that was Dedalus Diggle. He never had much sense.”\\n\\n', '“You can’t blame them,” said Dumbledore gently. “We’ve had precious little to celebrate for eleven years.”\\n\\n', '“I know that,” said Professor McGonagall irritably.\\n\\n', '“But that’s no reason to lose our heads. People are being downright careless, out on the streets in broad daylight, not even dressed in Muggle clothes, swapping rumors.”\\n\\n', 'She threw a sharp, sideways glance at Dumbledore here, as though hoping he was going to tell her something, but he didn’t, so she went on. “A fine thing it would be if, on the very day You-Know-Who seems to have disappeared at last, the Muggles found out about us all. I suppose he really has gone, Dumbledore?”\\n\\n', '“It certainly seems so,” said Dumbledore. “We have much to be thankful for. Would you care for a lemon drop?”\\n\\n', '“A what?”\\n\\n', '“A lemon drop. They’re a kind of Muggle sweet I’m rather fond of.”\\n\\n', '“No, thank you,” said Professor McGonagall coldly, as though she didn’t think this was the moment for lemon drops. “As I say, even if You-Know-Who has gone — ”\\n\\n', '“My dear Professor, surely a sensible person like yourself can call him by his name? All this You- Know-Who’ nonsense — for eleven years I have been trying to persuade people to call him by his proper name: Voldemort.” Professor McGonagall flinched, but Dumbledore, who was unsticking two lemon drops, seemed not to notice. “It all gets so confusing if we keep saying You-Know-Who.’ I have never seen any reason to be frightened of saying Voldemort’s name.”\\n\\n', '“I know you haven’t,” said Professor McGonagall, sounding half exasperated, half admiring. “But you’re different. Everyone knows you’re the only one You- Know- oh, all right, Voldemort, was frightened of.” “You flatter me,” said Dumbledore calmly. “Voldemort had powers I will never have.”\\n\\n', '“Only because you’re too — well — noble to use them.”\\n\\n', '“It’s lucky it’s dark. I haven’t blushed so much since Madam Pomfrey told me she liked my new earmuffs.”\\n\\n', 'Professor McGonagall shot a sharp look at Dumbledore and said, “The owls are nothing next to the rumors that are flying around. You know what everyone’s saying? About why he’s disappeared?\\n\\n', 'About what finally stopped him?”\\n\\n', 'It seemed that Professor McGonagall had reached the point she was most anxious to discuss, the real reason she had been waiting on a cold, hard wall all day, for neither as a cat nor as a woman had she fixed Dumbledore with such a piercing stare as she did now. It was plain that whatever “everyone” was saying, she was not going to believe it until Dumbledore told her it was true. Dumbledore, however, was choosing another lemon drop and did not answer.\\n\\n', '“What they’re saying,” she pressed on, “is that last night Voldemort turned up in Godric’s Hollow. He went to find the Potters. The rumor is that Lily and James Potter are — are — that they’re — dead.”\\n\\n', 'Dumbledore bowed his head. Professor McGonagall gasped.\\n\\n', '“Lily and James ... I can’t believe it ... I didn’t want to believe it ... Oh, Albus ...”\\n\\n', 'Dumbledore reached out and patted her on the shoulder. “I know ... I know ...” he said heavily. Professor McGonagall’s voice trembled as she went on. “That’s not all. They’re saying he tried to kill the Potters’ son, Harry. But — he couldn’t. He couldn’t kill that little boy. No one knows why, or how, but they’re saying that when he couldn’t kill Harry Potter, Voldemort’s power somehow broke — and that’s why he’s gone.”\\n\\n', 'Dumbledore nodded glumly.\\n\\n', '“It’s — it’s true?” faltered Professor McGonagall. “After all he’s done ... all the people he’s killed ... he couldn’t kill a little boy? It’s just astounding ... of all the things to stop him . . . but how in the name of heaven did Harry survive?”\\n\\n', '“We can only guess,” said Dumbledore. “We may never know.”\\n\\n', 'Professor McGonagall pulled out a lace handkerchief and dabbed at her eyes beneath her spectacles. Dumbledore gave a great sniff as he took a golden watch from his pocket and examined it. It was a very odd watch. It had twelve hands but no numbers; instead, little planets were moving around the edge. It must have made sense to Dumbledore, though, because he put it back in his pocket and said, “Hagrid’s late. I suppose it was he who told you I’d be here, by the way?”\\n\\n', '“Yes,” said Professor McGonagall. “And I don’t suppose you’re going to tell me why you’re here, of all places?”\\n\\n', '“I’ve come to bring Harry to his aunt and uncle. They’re the only family he has left now.”\\n\\n', '“You don’t mean — you can’t mean the people who live here?” cried Professor McGonagall, jumping to her\\n\\n', 'Page | 14 Harry Potter and the Philosophers Stone -J.K. Rowling\\n\\n', 'feet and pointing at number four. “Dumbledore — you can’t. I’ve been watching them all day. You couldn’t find two people who are less like us. And they’ve got this son — I saw him kicking his mother all the way up the street, screaming for sweets. Harry Potter come and live here!”\\n\\n', '“It’s the best place for him,” said Dumbledore firmly. “His aunt and uncle will be able to explain everything to him when he’s older. I’ve written them a letter.”\\n\\n', '“A letter?” repeated Professor McGonagall faintly, sitting back down on the wall. “Really, Dumbledore, you think you can explain all this in a letter? These people will never understand him! He’ll be famous — a legend — I wouldn’t be surprised if today was known as Harry Potter Day in the future — there will be books written about Harry — every child in our world will know his name!”\\n\\n', '“Exactly,” said Dumbledore, looking very seriously over the top of his half-moon glasses. “It would be enough to turn any boy’s head. Famous before he can walk and talk! Famous for something he won’t even remember! Can’t you see how much better off he’ll be, growing up away from all that until he’s ready to take it?”\\n\\n', 'Professor McGonagall opened her mouth, changed her mind, swallowed, and then said, “Yes — yes, you’re right, of course. But how is the boy getting here, Dumbledore?” She eyed his cloak suddenly as though she thought he might be hiding Harry underneath it.\\n\\n', '“Hagrid’s bringing him.”\\n\\n', '“You think it — wise — to trust Hagrid with something as important as this?” “I would trust Hagrid with my life,” said Dumbledore.\\n\\n', '“I’m not saying his heart isn’t in the right place,” said Professor McGonagall grudgingly, “but you can’t pretend he’s not careless. He does tend to — what was that?”\\n\\n', 'A low rumbling sound had broken the silence around them. It grew steadily louder as they looked up and down the street for some sign of a headlight; it swelled to a roar as they both looked up at the sky — and a huge motorcycle fell out of the air and landed on the road in front of them.\\n\\n', 'If the motorcycle was huge, it was nothing to the man sitting astride it. He was almost twice as tall as a normal man and at least five times as wide. He looked simply too big to be allowed, and so wild — long tangles of bushy black hair and beard hid most of his face, he had hands the size of trash can lids, and his feet in their leather boots were like baby dolphins. In his vast, muscular arms he was holding a bundle of blankets.\\n\\n', '“Hagrid,” said Dumbledore, sounding relieved. “At last. And where did you get that motorcycle?”\\n\\n', '“Borrowed it, Professor Dumbledore, sir,” said the giant, climbing carefully off the motorcycle as he spoke. “Young Sirius Black lent it to me. I’ve got him, sir.”\\n\\n', '“No problems, were there?”\\n\\n', '“No, sir — house was almost destroyed, but I got him out all right before the Muggles started swarmin’ around. He fell asleep as we was flyin’ over Bristol.” Dumbledore and Professor McGonagall bent forward over the bundle of blankets. Inside, just visible, was a baby boy, fast asleep. Under a tuft of jet-black hair over his forehead they could see a curiously shaped cut, like a bolt of lightning.\\n\\n', '“Is that where — ?” whispered Professor McGonagall.\\n\\n', '“Yes,” said Dumbledore. “Hell have that scar forever.”\\n\\n', '“Couldn’t you do something about it, Dumbledore?”\\n\\n', '“Even if I could, I wouldn’t. Scars can come in handy.\\n\\n', 'I have one myself above my left knee that is a perfect map of the London Underground. Well — give him here, Hagrid — we’d better get this over with.”\\n\\n', 'Dumbledore took Harry in his arms and turned toward the Dursleys’ house.\\n\\n', '“Could I — could I say good-bye to him, sir?” asked Hagrid. He bent his great, shaggy head over Harry and gave him what must have been a very scratchy, whiskery kiss. Then, suddenly, Hagrid let out a howl like a wounded dog.\\n\\n', '“Shhh!” hissed Professor McGonagall, “you’ll wake the Muggles!”\\n\\n', '“S-s-sorry,” sobbed Hagrid, taking out a large, spotted handkerchief and burying his face in it. “But I c-c- can’t stand it — Lily an’ James dead — an’ poor little Harry off ter live with Muggles — ”\\n\\n', '“Yes, yes, it’s all very sad, but get a grip on yourself, Hagrid, or we’ll be found,” Professor McGonagall whispered, patting Hagrid gingerly on the arm as Dumbledore stepped over the low garden wall and walked to the front door. He laid Harry gently on the doorstep, took a letter out of his cloak, tucked it inside Harry’s blankets, and then came back to the other two. For a full minute the three of them stood and looked at the little bundle; Hagrid’s shoulders shook, Professor McGonagall blinked furiously, and the twinkling light that usually shone from Dumbledore’s eyes seemed to have gone out.\\n\\n', '“Well,” said Dumbledore finally, “that’s that. We’ve no business staying here. We may as well go and join the celebrations.”\\n\\n', '“Yeah,” said Hagrid in a very muffled voice, “I’d best get this bike away. G ’night, Professor McGonagall — Professor Dumbledore, sir.”\\n\\n', 'Wiping his streaming eyes on his jacket sleeve, Hagrid swung himself onto the motorcycle and kicked the engine into life; with a roar it rose into the air and off into the night.\\n\\n', '“I shall see you soon, I expect, Professor McGonagall,” said Dumbledore, nodding to her. Professor McGonagall blew her nose in reply.\\n\\n', 'Dumbledore turned and walked back down the street. On the corner he stopped and took out the silver Put- Outer. He clicked it once, and twelve balls of light sped back to their street lamps so that Privet Drive glowed suddenly orange and he could make out a tabby cat slinking around the corner at the other end of the street. He could just see the bundle of blankets on the step of number four.\\n\\n', '“Good luck, Harry,” he murmured. He turned on his heel and with a swish of his cloak, he was gone.\\n\\n', 'A breeze ruffled the neat hedges of Privet Drive, which lay silent and tidy under the inky sky, the very last place you would expect astonishing things to happen. Harry Potter rolled over inside his blankets without waking up. One small hand closed on the letter beside him and he slept on, not knowing he was special, not knowing he was famous, not knowing he would be woken in a few hours’ time by Mrs.\\n\\n', 'Dursley’s scream as she opened the front door to put out the milk bottles, nor that he would spend the next few weeks being prodded and pinched by his cousin Dudley. ... He couldn’t know that at this very moment, people meeting in secret all over the country were holding up their glasses and saying in hushed voices: “To Harry Potter — the boy who lived!” THE VANASHIG GLASS\\n\\n', 'Nearly ten years had passed since the Dursleys had woken up to find their nephew on the front step, but Privet Drive had hardly changed at all. The sun rose on the same tidy front gardens and lit up the brass number four on the Dursleys’ front door; it crept into their living room, which was almost exactly the same as it had been on the night when Mr. Dursley had seen that fateful news report about the owls. Only the photographs on the mantelpiece really showed how much time had passed. Ten years ago, there had been lots of pictures of what looked like a large pink beach ball wearing different-colored bonnets — but Dudley Dursley was no longer a baby, and now the photographs showed a large blond boy riding his first bicycle, on a carousel at the fair, playing a computer game with his father, being hugged and kissed by his mother. The room held no sign at all that another boy lived in the house, too.\\n\\n', 'Yet Harry Potter was still there, asleep at the moment, but not for long. His Aunt Petunia was awake and it was her shrill voice that made the first noise of the day.\\n\\n', '“Up! Get up! Now!”\\n\\n', 'Harry woke with a start. His aunt rapped on the door again.\\n\\n', '“Up!” she screeched. Harry heard her walking toward the kitchen and then the sound of the frying pan being put on the stove. He rolled onto his back and tried to remember the dream he had been having. It had been a good one. There had been a flying motorcycle in it. He had a funny feeling he’d had the same dream before.\\n\\n', 'His aunt was back outside the door.\\n\\n', '“Are you up yet?” she demanded.\\n\\n', '“Nearly,” said Harry.\\n\\n', '“Well, get a move on, I want you to look after the bacon. And don’t you dare let it burn, I want everything perfect on Duddy’s birthday.”\\n\\n', 'Harry groaned.\\n\\n', '“What did you say?” his aunt snapped through the door.\\n\\n', '“Nothing, nothing ...”\\n\\n', 'Dudley’s birthday — how could he have forgotten? Harry got slowly out of bed and started looking for socks. He found a pair under his bed and, after pulling a spider off one of them, put them on. Harry was used to spiders, because the cupboard under the stairs was full of them, and that was where he slept. When he was dressed he went down the hall into the kitchen. The table was almost hidden beneath all Dudley’s birthday presents. It looked as though Dudley had gotten the new computer he wanted, not to mention the second television and the racing bike. Exactly why Dudley wanted a racing bike was a mystery to Harry, as Dudley was very fat and hated exercise — unless of course it involved punching somebody. Dudley’s favorite punching bag was Harry, but he couldn’t often catch him. Harry didn’t look it, but he was very fast.\\n\\n', 'Perhaps it had something to do with living in a dark cupboard, but Harry had always been small and skinny for his age. He looked even smaller and skinnier than he really was because all he had to wear were old clothes of Dudley’s, and Dudley was about four times bigger than he was. Harry had a thin face, knobbly knees, black hair, and bright green eyes. He wore round glasses held together with a lot of Scotch tape because of all the times Dudley had punched him on the nose. The only thing Harry liked about his own appearance was a very thin scar on his forehead that was shaped like a bolt of lightning. He had had it as long as he could remember, and the first question he could ever remember asking his Aunt Petunia was how he had gotten it.\\n\\n', '“In the car crash when your parents died,” she had said. “And don’t ask questions.”\\n\\n', 'Don’t ask questions — that was the first rule for a quiet life with the Dursleys.\\n\\n', 'Uncle Vernon entered the kitchen as Harry was turning over the bacon.\\n\\n', '“Comb your hair!” he barked, by way of a morning greeting. About once a week, Uncle Vernon looked over the top of his newspaper and shouted that Harry needed a haircut. Harry must have had more haircuts than the rest of the boys in his class put together, but it made no difference, his hair simply grew that way — all over the place.\\n\\n', 'Harry was frying eggs by the time Dudley arrived in the kitchen with his mother. Dudley looked a lot like Uncle Vernon. He had a large pink face, not much neck, small, watery blue eyes, and thick blond hair that lay smoothly on his thick, fat head. Aunt Petunia often said that Dudley looked like a baby angel — Harry often said that Dudley looked like a pig in a wig.\\n\\n', 'Harry put the plates of egg and bacon on the table, which was difficult as there wasn’t much room. Dudley, meanwhile, was counting his presents. His face fell.\\n\\n', '“Thirty-six,” he said, looking up at his mother and father. “That’s two less than last year.”\\n\\n', '“Darling, you haven’t counted Auntie Marge’s present, see, it’s here under this big one from Mommy and Daddy.”\\n\\n', '“All right, thirty-seven then,” said Dudley, going red in the face. Harry, who could see a huge Dudley tantrum coming on, began wolfing down his bacon as fast as possible in case Dudley turned the table over.\\n\\n', 'Aunt Petunia obviously scented danger, too, because she said quickly, “And we’ll buy you another two presents while we’re out today. How’s that, popkin? Two more presents. Is that all right?” Dudley thought for a moment. It looked like hard work. Finally he said slowly, “So I’ll have thirty ... thirty ...”\\n\\n', '“Thirty-nine, sweetums,” said Aunt Petunia.\\n\\n', '“Oh.” Dudley sat down heavily and grabbed the nearest parcel. “All right then.”\\n\\n', 'Uncle Vernon chuckled.\\n\\n', '“Little tyke wants his money’s worth, just like his father. ’Atta boy, Dudley!” He ruffled Dudley’s hair.\\n\\n', 'At that moment the telephone rang and Aunt Petunia went to answer it while Harry and Uncle Vernon watched Dudley unwrap the racing bike, a video camera, a remote control airplane, sixteen new computer games, and a VCR. He was ripping the paper off a gold wristwatch when Aunt Petunia came back from the telephone looking both angry and worried.\\n\\n', '“Bad news, Vernon,” she said. “Mrs. Figg’s broken her leg. She can’t take him.” She jerked her head in Harry’s direction.\\n\\n', 'Dudley’s mouth fell open in horror, but Harry’s heart gave a leap. Every year on Dudley’s birthday, his parents took him and a friend out for the day, to adventure parks, hamburger restaurants, or the movies. Every year, Harry was left behind with Mrs. Figg, a mad old lady who lived two streets away.\\n\\n', 'Harry hated it there. The whole house smelled of cabbage and Mrs. Figg made him look at photographs of all the cats she’d ever owned.\\n\\n', '“Now what?” said Aunt Petunia, looking furiously at Harry as though he’d planned this. Harry knew he ought to feel sorry that Mrs. Figg had broken her leg, but it wasn’t easy when he reminded himself it would be a whole year before he had to look at Tibbies, Snowy, Mr. Paws, and Tufty again.\\n\\n', '“We could phone Marge,” Uncle Vernon suggested.\\n\\n', '“Don’t be silly, Vernon, she hates the boy.”\\n\\n', 'The Dursleys often spoke about Harry like this, as though he wasn’t there — or rather, as though he was something very nasty that couldn’t understand them, like a slug.\\n\\n', '“What about what’s-her-name, your friend — Yvonne?”\\n\\n', '“On vacation in Majorca,” snapped Aunt Petunia.\\n\\n', '“You could just leave me here,” Harry put in hopefully (he’d be able to watch what he wanted on television for a change and maybe even have a go on Dudley’s computer) .\\n\\n', 'Aunt Petunia looked as though she’d just swallowed a lemon.\\n\\n', '“And come back and find the house in ruins?” she snarled.\\n\\n', '“I won’t blow up the house,” said Harry, but they weren’t listening.\\n\\n', '“I suppose we could take him to the zoo,” said Aunt Petunia slowly, \"... and leave him in the car. ...”\\n\\n', '“That cars new, he’s not sitting in it alone. ...” Dudley began to cry loudly. In fact, he wasn’t really crying — it had been years since he’d really cried — but he knew that if he screwed up his face and wailed, his mother would give him anything he wanted.\\n\\n', '“Dinky Duddydums, don’t cry, Mummy won’t let him spoil your special day!” she cried, flinging her arms around him.\\n\\n', '“I ... don’t ... want ... him ... t-t-to come!” Dudley yelled between huge, pretend sobs. “He always sp- spoils everything!” He shot Harry a nasty grin through the gap in his mothers arms.\\n\\n', 'Just then, the doorbell rang — “Oh, good Lord, they’re here!” said Aunt Petunia frantically — and a moment later, Dudley’s best friend, Piers Polkiss, walked in with his mother. Piers was a scrawny boy with a face like a rat. He was usually the one who held people’s arms behind their backs while Dudley hit them. Dudley stopped pretending to cry at once.\\n\\n', 'Half an hour later, Harry, who couldn’t believe his luck, was sitting in the back of the Dursleys’ car with Piers and Dudley, on the way to the zoo for the first time in his life. His aunt and uncle hadn’t been able to think of anything else to do with him, but before they’d left, Uncle Vernon had taken Harry aside.\\n\\n', '“I’m warning you,” he had said, putting his large purple face right up close to Harry’s, “I’m warning you now, boy — any funny business, anything at all — and you’ll be in that cupboard from now until Christmas.”\\n\\n', 'I’m not going to do anything,” said Harry, “honestly But Uncle Vernon didn’t believe him. No one ever did.\\n\\n', 'The problem was, strange things often happened around Harry and it was just no good telling the Dursleys he didn’t make them happen.\\n\\n', 'Once, Aunt Petunia, tired of Harry coming back from the barbers looking as though he hadn’t been at all, had taken a pair of kitchen scissors and cut his hair so short he was almost bald except for his bangs, which she left “to hide that horrible scar.” Dudley had laughed himself silly at Harry, who spent a sleepless night imagining school the next day, where he was already laughed at for his baggy clothes and taped glasses. Next morning, however, he had gotten up to find his hair exactly as it had been before Aunt Petunia had sheared it off. He had been given a week in his cupboard for this, even though he had tried to explain that he couldn’t explain how it had grown back so quickly.\\n\\n', 'Another time, Aunt Petunia had been trying to force him into a revolting old sweater of Dudley’s (brown with orange puff balls). The harder she tried to pull it over his head, the smaller it seemed to become, until finally it might have fitted a hand puppet, but certainly wouldn’t fit Harry. Aunt Petunia had decided it must have shrunk in the wash and, to his great relief, Harry wasn’t punished.\\n\\n', 'On the other hand, he’d gotten into terrible trouble for being found on the roof of the school kitchens. Dudley’s gang had been chasing him as usual when, as much to Harry’s surprise as anyone else’s, there he was sitting on the chimney. The Dursleys had received a very angry letter from Harry’s headmistress telling them Harry had been climbing school buildings. But all he’d tried to do (as he shouted at Uncle Vernon through the locked door of his cupboard) was jump behind the big trash cans outside the kitchen doors. Harry supposed that the wind must have caught him in mid-jump.\\n\\n', 'But today, nothing was going to go wrong. It was even worth being with Dudley and Piers to be spending the day somewhere that wasn’t school, his cupboard, or Mrs. Figg’s cabbage-smelling living room.\\n\\n', 'While he drove, Uncle Vernon complained to Aunt Petunia. He liked to complain about things: people at work, Harry, the council, Harry, the bank, and Harry were just a few of his favorite subjects. This morning, it was motorcycles.\\n\\n', '\"... roaring along like maniacs, the young hoodlums,” he said, as a motorcycle overtook them.\\n\\n', '“I had a dream about a motorcycle,” said Harry, remembering suddenly. “It was flying.”\\n\\n', 'Uncle Vernon nearly crashed into the car in front. He turned right around in his seat and yelled at Harry, his face like a gigantic beet with a mustache: “MOTORCYCLES DONT FLY!”\\n\\n', 'Dudley and Piers sniggered.\\n\\n', '“I know they don’t,” said Harry. “It was only a dream.”\\n\\n', 'But he wished he hadn’t said anything. If there was one thing the Dursleys hated even more than his asking questions, it was his talking about anything acting in a way it shouldn’t, no matter if it was in a dream or even a cartoon — they seemed to think he might get dangerous ideas.\\n\\n', 'It was a very sunny Saturday and the zoo was crowded with families. The Dursleys bought Dudley and Piers large chocolate ice creams at the entrance and then, because the smiling lady in the van had asked Harry what he wanted before they could hurry him away, they bought him a cheap lemon ice pop. It wasn’t bad, either, Harry thought, licking it as they watched a gorilla scratching its head who looked remarkably like Dudley, except that it wasn’t blond.\\n\\n', 'Harry had the best morning he’d had in a long time. He was careful to walk a little way apart from the Dursleys so that Dudley and Piers, who were starting to get bored with the animals by lunchtime, wouldn’t fall back on their favorite hobby of hitting him. They ate in the zoo restaurant, and when Dudley had a tantrum because his knickerbocker glory didn’t have enough ice cream on top, Uncle Vernon bought him another one and Harry was allowed to finish the first.\\n\\n', 'Harry felt, afterward, that he should have known it was all too good to last.\\n\\n', 'After lunch they went to the reptile house. It was cool and dark in there, with lit windows all along the walls. Behind the glass, all sorts of lizards and snakes were crawling and slithering over bits of wood and stone. Dudley and Piers wanted to see huge, poisonous cobras and thick, man-crushing pythons. Dudley quickly found the largest snake in the place. It could have wrapped its body twice around Uncle Vernon’s car and crushed it into a trash can — but at the moment it didn’t look in the mood. In fact, it was fast asleep.\\n\\n', 'Dudley stood with his nose pressed against the glass, staring at the glistening brown coils.\\n\\n', '“Make it move,” he whined at his father. Uncle Vernon tapped on the glass, but the snake didn’t budge. “Do it again,” Dudley ordered. Uncle Vernon rapped the glass smartly with his knuckles, but the snake just snoozed on.\\n\\n', '“This is boring,” Dudley moaned. He shuffled away.\\n\\n', 'Harry moved in front of the tank and looked intently at the snake. He wouldn’t have been surprised if it had died of boredom itself — no company except stupid people drumming their fingers on the glass trying to disturb it all day long. It was worse than having a cupboard as a bedroom, where the only visitor was Aunt Petunia hammering on the door to wake you up; at least he got to visit the rest of the house.\\n\\n', 'The snake suddenly opened its beady eyes. Slowly, very slowly, it raised its head until its eyes were on a level with Harry’s.\\n\\n', 'It winked.\\n\\n', 'Harry stared. Then he looked quickly around to see if anyone was watching. They weren’t. He looked back at the snake and winked, too.\\n\\n', 'The snake jerked its head toward Uncle Vernon and Dudley, then raised its eyes to the ceiling. It gave Harry a look that said quite plainly:\\n\\n', '“I get that all the time.”\\n\\n', '“I know,” Harry murmured through the glass, though he wasn’t sure the snake could hear him. “It must be really annoying.”\\n\\n', 'The snake nodded vigorously.\\n\\n', '“Where do you come from, anyway?” Harry asked. The snake jabbed its tail at a little sign next to the glass. Harry peered at it.\\n\\n', 'Boa Constrictor, Brazil.\\n\\n', '“Was it nice there?”\\n\\n', 'The boa constrictor jabbed its tail at the sign again and Harry read on: This specimen was bred in the zoo. “Oh, I see — so you’ve never been to Brazil?”\\n\\n', 'As the snake shook its head, a deafening shout behind Harry made both of them jump. “DUDLEY! MR. DURSLEY! COME AND LOOK AT THIS SNAKE! YOU WONT BELIEVE WHAT IT’S DOING!”\\n\\n', 'Dudley came waddling toward them as fast as he could.\\n\\n', '“Out of the way, you,” he said, punching Harry in the ribs. Caught by surprise, Harry fell hard on the concrete floor. What came next happened so fast no one saw how it happened — one second, Piers and Dudley were leaning right up close to the glass, the next, they had leapt back with howls of horror.\\n\\n', 'Harry sat up and gasped; the glass front of the boa constrictor’s tank had vanished. The great snake was uncoiling itself rapidly, slithering out onto the floor. People throughout the reptile house screamed and started running for the exits.\\n\\n', 'As the snake slid swiftly past him, Harry could have sworn a low, hissing voice said, “Brazil, here I come. ... Thanksss, amigo.”\\n\\n', 'The keeper of the reptile house was in shock. “But the glass,” he kept saying, “where did the glass go?” \"\\n\\n', 'The zoo director himself made Aunt Petunia a cup of strong, sweet tea while he apologized over and over again. Piers and Dudley could only gibber. As far as Harry had seen, the snake hadn’t done anything except snap playfully at their heels as it passed, but by the time they were all back in Uncle Vernon’s car, Dudley was telling them how it had nearly bitten off his leg, while Piers was swearing it had tried to squeeze him to death. But worst of all, for Harry at least, was Piers calming down enough to say, “Harry was talking to it, weren’t you, Harry?”\\n\\n']\n"
          ]
        }
      ]
    },
    {
      "cell_type": "markdown",
      "source": [
        "we will convert our list(see above), to huggingface compatible dataset"
      ],
      "metadata": {
        "id": "c-xvY6fkIK6C"
      }
    },
    {
      "cell_type": "code",
      "source": [
        "!pip install datasets transformers\n",
        "from datasets import Dataset\n",
        "\n",
        "# Creaing dataset from paras\n",
        "dataset = Dataset.from_dict({\"content\": paras})\n",
        "\n"
      ],
      "metadata": {
        "colab": {
          "base_uri": "https://localhost:8080/"
        },
        "id": "fadke6LlIp-t",
        "outputId": "752dd507-533c-4373-a8e7-3ce458e7da6f"
      },
      "execution_count": 9,
      "outputs": [
        {
          "output_type": "stream",
          "name": "stdout",
          "text": [
            "Requirement already satisfied: datasets in /usr/local/lib/python3.11/dist-packages (2.14.4)\n",
            "Requirement already satisfied: transformers in /usr/local/lib/python3.11/dist-packages (4.51.3)\n",
            "Requirement already satisfied: numpy>=1.17 in /usr/local/lib/python3.11/dist-packages (from datasets) (2.0.2)\n",
            "Requirement already satisfied: pyarrow>=8.0.0 in /usr/local/lib/python3.11/dist-packages (from datasets) (18.1.0)\n",
            "Requirement already satisfied: dill<0.3.8,>=0.3.0 in /usr/local/lib/python3.11/dist-packages (from datasets) (0.3.7)\n",
            "Requirement already satisfied: pandas in /usr/local/lib/python3.11/dist-packages (from datasets) (2.2.2)\n",
            "Requirement already satisfied: requests>=2.19.0 in /usr/local/lib/python3.11/dist-packages (from datasets) (2.32.3)\n",
            "Requirement already satisfied: tqdm>=4.62.1 in /usr/local/lib/python3.11/dist-packages (from datasets) (4.67.1)\n",
            "Requirement already satisfied: xxhash in /usr/local/lib/python3.11/dist-packages (from datasets) (3.5.0)\n",
            "Requirement already satisfied: multiprocess in /usr/local/lib/python3.11/dist-packages (from datasets) (0.70.15)\n",
            "Requirement already satisfied: fsspec>=2021.11.1 in /usr/local/lib/python3.11/dist-packages (from fsspec[http]>=2021.11.1->datasets) (2025.3.2)\n",
            "Requirement already satisfied: aiohttp in /usr/local/lib/python3.11/dist-packages (from datasets) (3.11.15)\n",
            "Requirement already satisfied: huggingface-hub<1.0.0,>=0.14.0 in /usr/local/lib/python3.11/dist-packages (from datasets) (0.31.1)\n",
            "Requirement already satisfied: packaging in /usr/local/lib/python3.11/dist-packages (from datasets) (24.2)\n",
            "Requirement already satisfied: pyyaml>=5.1 in /usr/local/lib/python3.11/dist-packages (from datasets) (6.0.2)\n",
            "Requirement already satisfied: filelock in /usr/local/lib/python3.11/dist-packages (from transformers) (3.18.0)\n",
            "Requirement already satisfied: regex!=2019.12.17 in /usr/local/lib/python3.11/dist-packages (from transformers) (2024.11.6)\n",
            "Requirement already satisfied: tokenizers<0.22,>=0.21 in /usr/local/lib/python3.11/dist-packages (from transformers) (0.21.1)\n",
            "Requirement already satisfied: safetensors>=0.4.3 in /usr/local/lib/python3.11/dist-packages (from transformers) (0.5.3)\n",
            "Requirement already satisfied: aiohappyeyeballs>=2.3.0 in /usr/local/lib/python3.11/dist-packages (from aiohttp->datasets) (2.6.1)\n",
            "Requirement already satisfied: aiosignal>=1.1.2 in /usr/local/lib/python3.11/dist-packages (from aiohttp->datasets) (1.3.2)\n",
            "Requirement already satisfied: attrs>=17.3.0 in /usr/local/lib/python3.11/dist-packages (from aiohttp->datasets) (25.3.0)\n",
            "Requirement already satisfied: frozenlist>=1.1.1 in /usr/local/lib/python3.11/dist-packages (from aiohttp->datasets) (1.6.0)\n",
            "Requirement already satisfied: multidict<7.0,>=4.5 in /usr/local/lib/python3.11/dist-packages (from aiohttp->datasets) (6.4.3)\n",
            "Requirement already satisfied: propcache>=0.2.0 in /usr/local/lib/python3.11/dist-packages (from aiohttp->datasets) (0.3.1)\n",
            "Requirement already satisfied: yarl<2.0,>=1.17.0 in /usr/local/lib/python3.11/dist-packages (from aiohttp->datasets) (1.20.0)\n",
            "Requirement already satisfied: typing-extensions>=3.7.4.3 in /usr/local/lib/python3.11/dist-packages (from huggingface-hub<1.0.0,>=0.14.0->datasets) (4.13.2)\n",
            "Requirement already satisfied: hf-xet<2.0.0,>=1.1.0 in /usr/local/lib/python3.11/dist-packages (from huggingface-hub<1.0.0,>=0.14.0->datasets) (1.1.0)\n",
            "Requirement already satisfied: charset-normalizer<4,>=2 in /usr/local/lib/python3.11/dist-packages (from requests>=2.19.0->datasets) (3.4.2)\n",
            "Requirement already satisfied: idna<4,>=2.5 in /usr/local/lib/python3.11/dist-packages (from requests>=2.19.0->datasets) (3.10)\n",
            "Requirement already satisfied: urllib3<3,>=1.21.1 in /usr/local/lib/python3.11/dist-packages (from requests>=2.19.0->datasets) (2.4.0)\n",
            "Requirement already satisfied: certifi>=2017.4.17 in /usr/local/lib/python3.11/dist-packages (from requests>=2.19.0->datasets) (2025.4.26)\n",
            "Requirement already satisfied: python-dateutil>=2.8.2 in /usr/local/lib/python3.11/dist-packages (from pandas->datasets) (2.9.0.post0)\n",
            "Requirement already satisfied: pytz>=2020.1 in /usr/local/lib/python3.11/dist-packages (from pandas->datasets) (2025.2)\n",
            "Requirement already satisfied: tzdata>=2022.7 in /usr/local/lib/python3.11/dist-packages (from pandas->datasets) (2025.2)\n",
            "Requirement already satisfied: six>=1.5 in /usr/local/lib/python3.11/dist-packages (from python-dateutil>=2.8.2->pandas->datasets) (1.17.0)\n"
          ]
        }
      ]
    },
    {
      "cell_type": "code",
      "source": [
        "for i in range(5):\n",
        "    print(f\"{i+1}. {dataset[i]['content']}\\n\")\n"
      ],
      "metadata": {
        "colab": {
          "base_uri": "https://localhost:8080/"
        },
        "id": "jCrPMowyNOwO",
        "outputId": "bd2be294-8c5c-405c-eae7-4e7b9758b7c9"
      },
      "execution_count": 10,
      "outputs": [
        {
          "output_type": "stream",
          "name": "stdout",
          "text": [
            "1. THE BOY WHO LIVED\n",
            "\n",
            "\n",
            "\n",
            "2. Mr. and Mrs. Dursley, of number four, Privet Drive, were proud to say that they were perfectly normal, thank you very much. They were the last people you’d expect to be involved in anything strange or mysterious, because they just didn’t hold with such nonsense.\n",
            "\n",
            "\n",
            "\n",
            "3. Mr. Dursley was the director of a firm called Grunnings, which made drills. He was a big, beefy man with hardly any neck, although he did have a very large mustache. Mrs. Dursley was thin and blonde and had nearly twice the usual amount of neck, which came in very useful as she spent so much of her time craning over garden fences, spying on the neighbors. The Dursley s had a small son called Dudley and in their opinion there was no finer boy anywhere.\n",
            "\n",
            "\n",
            "\n",
            "4. The Dursleys had everything they wanted, but they also had a secret, and their greatest fear was that somebody would discover it. They didn’t think they could bear it if anyone found out about the Potters. Mrs. Potter was Mrs. Dursley’s sister, but they hadn’t met for several years; in fact, Mrs. Dursley pretended she didn’t have a sister, because her sister and her good-for-nothing husband were as unDursleyish as it was possible to be. The Dursleys shuddered to think what the neighbors would say if the Potters arrived in the street. The Dursleys knew that the Potters had a small son, too, but they had never even seen him.\n",
            "\n",
            "\n",
            "\n",
            "5. This boy was another good reason for keeping the Potters away; they didn’t want Dudley mixing with a child like that.\n",
            "\n",
            "\n",
            "\n"
          ]
        }
      ]
    },
    {
      "cell_type": "code",
      "source": [],
      "metadata": {
        "id": "oxl40EG1X_zu"
      },
      "execution_count": null,
      "outputs": []
    }
  ]
}