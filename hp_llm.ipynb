{
  "nbformat": 4,
  "nbformat_minor": 0,
  "metadata": {
    "colab": {
      "provenance": [],
      "gpuType": "T4",
      "authorship_tag": "ABX9TyPgQ5WUu7UM2Q2LV68KlPfx"
    },
    "kernelspec": {
      "name": "python3",
      "display_name": "Python 3"
    },
    "language_info": {
      "name": "python"
    },
    "accelerator": "GPU",
    "widgets": {
      "application/vnd.jupyter.widget-state+json": {
        "21fea9b821fc46e7b6e4009b5406576c": {
          "model_module": "@jupyter-widgets/controls",
          "model_name": "HBoxModel",
          "model_module_version": "1.5.0",
          "state": {
            "_dom_classes": [],
            "_model_module": "@jupyter-widgets/controls",
            "_model_module_version": "1.5.0",
            "_model_name": "HBoxModel",
            "_view_count": null,
            "_view_module": "@jupyter-widgets/controls",
            "_view_module_version": "1.5.0",
            "_view_name": "HBoxView",
            "box_style": "",
            "children": [
              "IPY_MODEL_27e4c6b4271a41ceb25e832d3d2020b1",
              "IPY_MODEL_6208292c42bf439dac1eb55da06c2ccc",
              "IPY_MODEL_2f68f91dede94d729a6da97eabcafc6f"
            ],
            "layout": "IPY_MODEL_764484a4f98c4616a57e0a08d3669f76"
          }
        },
        "27e4c6b4271a41ceb25e832d3d2020b1": {
          "model_module": "@jupyter-widgets/controls",
          "model_name": "HTMLModel",
          "model_module_version": "1.5.0",
          "state": {
            "_dom_classes": [],
            "_model_module": "@jupyter-widgets/controls",
            "_model_module_version": "1.5.0",
            "_model_name": "HTMLModel",
            "_view_count": null,
            "_view_module": "@jupyter-widgets/controls",
            "_view_module_version": "1.5.0",
            "_view_name": "HTMLView",
            "description": "",
            "description_tooltip": null,
            "layout": "IPY_MODEL_7b2e6148a87547308c0f0b16d64daba2",
            "placeholder": "​",
            "style": "IPY_MODEL_6dfb72fe6154436187424c01af34f68f",
            "value": "Map: 100%"
          }
        },
        "6208292c42bf439dac1eb55da06c2ccc": {
          "model_module": "@jupyter-widgets/controls",
          "model_name": "FloatProgressModel",
          "model_module_version": "1.5.0",
          "state": {
            "_dom_classes": [],
            "_model_module": "@jupyter-widgets/controls",
            "_model_module_version": "1.5.0",
            "_model_name": "FloatProgressModel",
            "_view_count": null,
            "_view_module": "@jupyter-widgets/controls",
            "_view_module_version": "1.5.0",
            "_view_name": "ProgressView",
            "bar_style": "success",
            "description": "",
            "description_tooltip": null,
            "layout": "IPY_MODEL_6980cccc86a447b7bbe9a6cb115a652d",
            "max": 2898,
            "min": 0,
            "orientation": "horizontal",
            "style": "IPY_MODEL_0678d30f31ec4cfc80f4b928c6b82188",
            "value": 2898
          }
        },
        "2f68f91dede94d729a6da97eabcafc6f": {
          "model_module": "@jupyter-widgets/controls",
          "model_name": "HTMLModel",
          "model_module_version": "1.5.0",
          "state": {
            "_dom_classes": [],
            "_model_module": "@jupyter-widgets/controls",
            "_model_module_version": "1.5.0",
            "_model_name": "HTMLModel",
            "_view_count": null,
            "_view_module": "@jupyter-widgets/controls",
            "_view_module_version": "1.5.0",
            "_view_name": "HTMLView",
            "description": "",
            "description_tooltip": null,
            "layout": "IPY_MODEL_509609fbc6204e378c47742e6db9622b",
            "placeholder": "​",
            "style": "IPY_MODEL_bbe843f8e9ad47be930ca305790e805f",
            "value": " 2898/2898 [00:00&lt;00:00, 4973.09 examples/s]"
          }
        },
        "764484a4f98c4616a57e0a08d3669f76": {
          "model_module": "@jupyter-widgets/base",
          "model_name": "LayoutModel",
          "model_module_version": "1.2.0",
          "state": {
            "_model_module": "@jupyter-widgets/base",
            "_model_module_version": "1.2.0",
            "_model_name": "LayoutModel",
            "_view_count": null,
            "_view_module": "@jupyter-widgets/base",
            "_view_module_version": "1.2.0",
            "_view_name": "LayoutView",
            "align_content": null,
            "align_items": null,
            "align_self": null,
            "border": null,
            "bottom": null,
            "display": null,
            "flex": null,
            "flex_flow": null,
            "grid_area": null,
            "grid_auto_columns": null,
            "grid_auto_flow": null,
            "grid_auto_rows": null,
            "grid_column": null,
            "grid_gap": null,
            "grid_row": null,
            "grid_template_areas": null,
            "grid_template_columns": null,
            "grid_template_rows": null,
            "height": null,
            "justify_content": null,
            "justify_items": null,
            "left": null,
            "margin": null,
            "max_height": null,
            "max_width": null,
            "min_height": null,
            "min_width": null,
            "object_fit": null,
            "object_position": null,
            "order": null,
            "overflow": null,
            "overflow_x": null,
            "overflow_y": null,
            "padding": null,
            "right": null,
            "top": null,
            "visibility": null,
            "width": null
          }
        },
        "7b2e6148a87547308c0f0b16d64daba2": {
          "model_module": "@jupyter-widgets/base",
          "model_name": "LayoutModel",
          "model_module_version": "1.2.0",
          "state": {
            "_model_module": "@jupyter-widgets/base",
            "_model_module_version": "1.2.0",
            "_model_name": "LayoutModel",
            "_view_count": null,
            "_view_module": "@jupyter-widgets/base",
            "_view_module_version": "1.2.0",
            "_view_name": "LayoutView",
            "align_content": null,
            "align_items": null,
            "align_self": null,
            "border": null,
            "bottom": null,
            "display": null,
            "flex": null,
            "flex_flow": null,
            "grid_area": null,
            "grid_auto_columns": null,
            "grid_auto_flow": null,
            "grid_auto_rows": null,
            "grid_column": null,
            "grid_gap": null,
            "grid_row": null,
            "grid_template_areas": null,
            "grid_template_columns": null,
            "grid_template_rows": null,
            "height": null,
            "justify_content": null,
            "justify_items": null,
            "left": null,
            "margin": null,
            "max_height": null,
            "max_width": null,
            "min_height": null,
            "min_width": null,
            "object_fit": null,
            "object_position": null,
            "order": null,
            "overflow": null,
            "overflow_x": null,
            "overflow_y": null,
            "padding": null,
            "right": null,
            "top": null,
            "visibility": null,
            "width": null
          }
        },
        "6dfb72fe6154436187424c01af34f68f": {
          "model_module": "@jupyter-widgets/controls",
          "model_name": "DescriptionStyleModel",
          "model_module_version": "1.5.0",
          "state": {
            "_model_module": "@jupyter-widgets/controls",
            "_model_module_version": "1.5.0",
            "_model_name": "DescriptionStyleModel",
            "_view_count": null,
            "_view_module": "@jupyter-widgets/base",
            "_view_module_version": "1.2.0",
            "_view_name": "StyleView",
            "description_width": ""
          }
        },
        "6980cccc86a447b7bbe9a6cb115a652d": {
          "model_module": "@jupyter-widgets/base",
          "model_name": "LayoutModel",
          "model_module_version": "1.2.0",
          "state": {
            "_model_module": "@jupyter-widgets/base",
            "_model_module_version": "1.2.0",
            "_model_name": "LayoutModel",
            "_view_count": null,
            "_view_module": "@jupyter-widgets/base",
            "_view_module_version": "1.2.0",
            "_view_name": "LayoutView",
            "align_content": null,
            "align_items": null,
            "align_self": null,
            "border": null,
            "bottom": null,
            "display": null,
            "flex": null,
            "flex_flow": null,
            "grid_area": null,
            "grid_auto_columns": null,
            "grid_auto_flow": null,
            "grid_auto_rows": null,
            "grid_column": null,
            "grid_gap": null,
            "grid_row": null,
            "grid_template_areas": null,
            "grid_template_columns": null,
            "grid_template_rows": null,
            "height": null,
            "justify_content": null,
            "justify_items": null,
            "left": null,
            "margin": null,
            "max_height": null,
            "max_width": null,
            "min_height": null,
            "min_width": null,
            "object_fit": null,
            "object_position": null,
            "order": null,
            "overflow": null,
            "overflow_x": null,
            "overflow_y": null,
            "padding": null,
            "right": null,
            "top": null,
            "visibility": null,
            "width": null
          }
        },
        "0678d30f31ec4cfc80f4b928c6b82188": {
          "model_module": "@jupyter-widgets/controls",
          "model_name": "ProgressStyleModel",
          "model_module_version": "1.5.0",
          "state": {
            "_model_module": "@jupyter-widgets/controls",
            "_model_module_version": "1.5.0",
            "_model_name": "ProgressStyleModel",
            "_view_count": null,
            "_view_module": "@jupyter-widgets/base",
            "_view_module_version": "1.2.0",
            "_view_name": "StyleView",
            "bar_color": null,
            "description_width": ""
          }
        },
        "509609fbc6204e378c47742e6db9622b": {
          "model_module": "@jupyter-widgets/base",
          "model_name": "LayoutModel",
          "model_module_version": "1.2.0",
          "state": {
            "_model_module": "@jupyter-widgets/base",
            "_model_module_version": "1.2.0",
            "_model_name": "LayoutModel",
            "_view_count": null,
            "_view_module": "@jupyter-widgets/base",
            "_view_module_version": "1.2.0",
            "_view_name": "LayoutView",
            "align_content": null,
            "align_items": null,
            "align_self": null,
            "border": null,
            "bottom": null,
            "display": null,
            "flex": null,
            "flex_flow": null,
            "grid_area": null,
            "grid_auto_columns": null,
            "grid_auto_flow": null,
            "grid_auto_rows": null,
            "grid_column": null,
            "grid_gap": null,
            "grid_row": null,
            "grid_template_areas": null,
            "grid_template_columns": null,
            "grid_template_rows": null,
            "height": null,
            "justify_content": null,
            "justify_items": null,
            "left": null,
            "margin": null,
            "max_height": null,
            "max_width": null,
            "min_height": null,
            "min_width": null,
            "object_fit": null,
            "object_position": null,
            "order": null,
            "overflow": null,
            "overflow_x": null,
            "overflow_y": null,
            "padding": null,
            "right": null,
            "top": null,
            "visibility": null,
            "width": null
          }
        },
        "bbe843f8e9ad47be930ca305790e805f": {
          "model_module": "@jupyter-widgets/controls",
          "model_name": "DescriptionStyleModel",
          "model_module_version": "1.5.0",
          "state": {
            "_model_module": "@jupyter-widgets/controls",
            "_model_module_version": "1.5.0",
            "_model_name": "DescriptionStyleModel",
            "_view_count": null,
            "_view_module": "@jupyter-widgets/base",
            "_view_module_version": "1.2.0",
            "_view_name": "StyleView",
            "description_width": ""
          }
        }
      }
    }
  },
  "cells": [
    {
      "cell_type": "markdown",
      "source": [
        "I am using this dataset: https://www.kaggle.com/datasets/rupanshukapoor/harry-potter-books"
      ],
      "metadata": {
        "id": "tCKM0R0cVks0"
      }
    },
    {
      "cell_type": "code",
      "execution_count": 1,
      "metadata": {
        "id": "2LfLsI8j7iM_"
      },
      "outputs": [],
      "source": [
        "#Read the input file\n",
        "with open(\"Harry_potter_book_1.txt\", 'r', encoding='utf-8') as f:\n",
        "    lines = f.readlines()"
      ]
    },
    {
      "cell_type": "code",
      "source": [
        "for i in range(min(32, len(lines))):\n",
        "    print(f\"{i+1:>2}: {lines[i].strip()}\")\n"
      ],
      "metadata": {
        "colab": {
          "base_uri": "https://localhost:8080/",
          "height": 0
        },
        "id": "uKPtLpTy9Ykf",
        "outputId": "28d03c47-7f25-4e52-d4da-1e5877eeeaec"
      },
      "execution_count": 2,
      "outputs": [
        {
          "output_type": "stream",
          "name": "stdout",
          "text": [
            " 1: THE BOY WHO LIVED\n",
            " 2: \n",
            " 3: Mr. and Mrs. Dursley, of number four, Privet Drive,\n",
            " 4: were proud to say that they were perfectly normal,\n",
            " 5: thank you very much. They were the last people you’d\n",
            " 6: expect to be involved in anything strange or\n",
            " 7: mysterious, because they just didn’t hold with such\n",
            " 8: nonsense.\n",
            " 9: \n",
            "10: Mr. Dursley was the director of a firm called\n",
            "11: Grunnings, which made drills. He was a big, beefy\n",
            "12: man with hardly any neck, although he did have a\n",
            "13: very large mustache. Mrs. Dursley was thin and\n",
            "14: blonde and had nearly twice the usual amount of\n",
            "15: neck, which came in very useful as she spent so\n",
            "16: much of her time craning over garden fences, spying\n",
            "17: on the neighbors. The Dursley s had a small son\n",
            "18: called Dudley and in their opinion there was no finer\n",
            "19: boy anywhere.\n",
            "20: \n",
            "21: The Dursleys had everything they wanted, but they\n",
            "22: also had a secret, and their greatest fear was that\n",
            "23: somebody would discover it. They didn’t think they\n",
            "24: could bear it if anyone found out about the Potters.\n",
            "25: Mrs. Potter was Mrs. Dursley’s sister, but they hadn’t\n",
            "26: \n",
            "27: Page | 2 Harry Potter and the Philosophers Stone - J.K. Rowling\n",
            "28: \n",
            "29: \n",
            "30: \n",
            "31: met for several years; in fact, Mrs. Dursley pretended\n",
            "32: she didn’t have a sister, because her sister and her\n"
          ]
        }
      ]
    },
    {
      "cell_type": "markdown",
      "source": [
        "Then I will format the text accordingly suitable for fine tuning, I am planning to keep all paragraph in one single line and seaparated by an empty line so basically two paragraphs get separated by /n/n"
      ],
      "metadata": {
        "id": "AIXPLsFGVxxK"
      }
    },
    {
      "cell_type": "code",
      "source": [
        "#Remove empty lines after and before the line Harry Potter and the Philosophers Stone - J.K. Rowling and that line\n",
        "cleaned = []\n",
        "i = 0\n",
        "while i < len(lines):\n",
        "    line = lines[i].strip()\n",
        "\n",
        "    if \"Harry Potter and the Philosophers Stone - J.K. Rowling\" in line:\n",
        "        while cleaned and cleaned[-1].strip() == \"\":\n",
        "            cleaned.pop()\n",
        "        i += 1\n",
        "        while i < len(lines) and lines[i].strip() == \"\":\n",
        "            i += 1\n",
        "        continue\n",
        "\n",
        "    cleaned.append(line)\n",
        "    i += 1"
      ],
      "metadata": {
        "id": "1USGPF1u9Ai5"
      },
      "execution_count": 3,
      "outputs": []
    },
    {
      "cell_type": "code",
      "source": [
        "for i in range(min(32, len(cleaned))):\n",
        "    print(f\"{i+1:>2}: {cleaned[i]}\")"
      ],
      "metadata": {
        "colab": {
          "base_uri": "https://localhost:8080/",
          "height": 0
        },
        "id": "PPUuN8909twJ",
        "outputId": "0291bf64-495a-4fe8-9f54-224a2c619ddc"
      },
      "execution_count": 4,
      "outputs": [
        {
          "output_type": "stream",
          "name": "stdout",
          "text": [
            " 1: THE BOY WHO LIVED\n",
            " 2: \n",
            " 3: Mr. and Mrs. Dursley, of number four, Privet Drive,\n",
            " 4: were proud to say that they were perfectly normal,\n",
            " 5: thank you very much. They were the last people you’d\n",
            " 6: expect to be involved in anything strange or\n",
            " 7: mysterious, because they just didn’t hold with such\n",
            " 8: nonsense.\n",
            " 9: \n",
            "10: Mr. Dursley was the director of a firm called\n",
            "11: Grunnings, which made drills. He was a big, beefy\n",
            "12: man with hardly any neck, although he did have a\n",
            "13: very large mustache. Mrs. Dursley was thin and\n",
            "14: blonde and had nearly twice the usual amount of\n",
            "15: neck, which came in very useful as she spent so\n",
            "16: much of her time craning over garden fences, spying\n",
            "17: on the neighbors. The Dursley s had a small son\n",
            "18: called Dudley and in their opinion there was no finer\n",
            "19: boy anywhere.\n",
            "20: \n",
            "21: The Dursleys had everything they wanted, but they\n",
            "22: also had a secret, and their greatest fear was that\n",
            "23: somebody would discover it. They didn’t think they\n",
            "24: could bear it if anyone found out about the Potters.\n",
            "25: Mrs. Potter was Mrs. Dursley’s sister, but they hadn’t\n",
            "26: met for several years; in fact, Mrs. Dursley pretended\n",
            "27: she didn’t have a sister, because her sister and her\n",
            "28: good-for-nothing husband were as unDursleyish as it\n",
            "29: was possible to be. The Dursleys shuddered to think\n",
            "30: what the neighbors would say if the Potters arrived in\n",
            "31: the street. The Dursleys knew that the Potters had a\n",
            "32: small son, too, but they had never even seen him.\n"
          ]
        }
      ]
    },
    {
      "cell_type": "code",
      "source": [
        "#writing all paragraphs in single one line\n",
        "paras = []\n",
        "temp = []\n",
        "\n",
        "for line in cleaned:\n",
        "    if line.strip() == \"\":\n",
        "        if temp:\n",
        "            paras.append(\" \".join(temp) + \"\\n\\n\")\n",
        "            temp = []\n",
        "    else:\n",
        "        temp.append(line.strip())\n",
        "\n",
        "if temp:\n",
        "    paras.append(\" \".join(temp) + \"\\n\\n\")"
      ],
      "metadata": {
        "id": "OYy_Y5zV9vS_"
      },
      "execution_count": 5,
      "outputs": []
    },
    {
      "cell_type": "code",
      "source": [
        "with open(\"cleaned_paras.txt\", \"w\", encoding=\"utf-8\") as f:\n",
        "    f.writelines(paras)\n"
      ],
      "metadata": {
        "id": "n0bjFpv-GhIF"
      },
      "execution_count": 48,
      "outputs": []
    },
    {
      "cell_type": "code",
      "source": [
        "full_text = \"\".join(paras)\n",
        "lines = full_text.split(\"\\n\")\n",
        "\n",
        "for i in range(min(32, len(lines))):\n",
        "    print(f\"{i+1}. {lines[i]}\")\n"
      ],
      "metadata": {
        "colab": {
          "base_uri": "https://localhost:8080/",
          "height": 0
        },
        "id": "XpS-g-tZ-YF8",
        "outputId": "380a3ab9-0348-43be-ad8b-0510df857d49"
      },
      "execution_count": 10,
      "outputs": [
        {
          "output_type": "stream",
          "name": "stdout",
          "text": [
            "1. THE BOY WHO LIVED\n",
            "2. \n",
            "3. Mr. and Mrs. Dursley, of number four, Privet Drive, were proud to say that they were perfectly normal, thank you very much. They were the last people you’d expect to be involved in anything strange or mysterious, because they just didn’t hold with such nonsense.\n",
            "4. \n",
            "5. Mr. Dursley was the director of a firm called Grunnings, which made drills. He was a big, beefy man with hardly any neck, although he did have a very large mustache. Mrs. Dursley was thin and blonde and had nearly twice the usual amount of neck, which came in very useful as she spent so much of her time craning over garden fences, spying on the neighbors. The Dursley s had a small son called Dudley and in their opinion there was no finer boy anywhere.\n",
            "6. \n",
            "7. The Dursleys had everything they wanted, but they also had a secret, and their greatest fear was that somebody would discover it. They didn’t think they could bear it if anyone found out about the Potters. Mrs. Potter was Mrs. Dursley’s sister, but they hadn’t met for several years; in fact, Mrs. Dursley pretended she didn’t have a sister, because her sister and her good-for-nothing husband were as unDursleyish as it was possible to be. The Dursleys shuddered to think what the neighbors would say if the Potters arrived in the street. The Dursleys knew that the Potters had a small son, too, but they had never even seen him.\n",
            "8. \n",
            "9. This boy was another good reason for keeping the Potters away; they didn’t want Dudley mixing with a child like that.\n",
            "10. \n",
            "11. When Mr. and Mrs. Dursley woke up on the dull, gray Tuesday our story starts, there was nothing about the cloudy sky outside to suggest that strange and mysterious things would soon be happening all over the country. Mr. Dursley hummed as he picked out his most boring tie for work, and Mrs. Dursley gossiped away happily as she wrestled a screaming Dudley into his high chair.\n",
            "12. \n",
            "13. None of them noticed a large, tawny owl flutter past the window.\n",
            "14. \n",
            "15. At half past eight, Mr. Dursley picked up his briefcase, pecked Mrs. Dursley on the cheek, and tried to kiss Dudley good-bye but missed, because Dudley was now having a tantrum and throwing his cereal at the walls. “Little tyke,” chortled Mr. Dursley as he left the house. He got into his car and backed out of number four’s drive.\n",
            "16. \n",
            "17. It was on the corner of the street that he noticed the first sign of something peculiar — a cat reading a map. For a second, Mr. Dursley didn’t realize what he had seen — then he jerked his head around to look again. There was a tabby cat standing on the corner of Privet Drive, but there wasn’t a map in sight. What could he have been thinking of? It must have been a trick of the light. Mr. Dursley blinked and stared at the cat. It stared back. As Mr. Dursley drove around the corner and up the road, he watched the cat in his mirror. It was now reading the sign that said Privet Drive — no, looking at the sign; cats couldn’t read maps or signs. Mr. Dursley gave himself a little shake and put the cat out of his mind. As he drove toward town he thought of nothing except a large order of drills he was hoping to get that day.\n",
            "18. \n",
            "19. But on the edge of town, drills were driven out of his mind by something else. As he sat in the usual morning traffic jam, he couldn’t help noticing that there seemed to be a lot of strangely dressed people about. People in cloaks. Mr. Dursley couldn’t bear people who dressed in funny clothes — the getups you saw on young people! He supposed this was some stupid new fashion. He drummed his fingers on the steering wheel and his eyes fell on a huddle of these weirdos standing quite close by. They were whispering excitedly together. Mr. Dursley was enraged to see that a couple of them weren’t young at all; why, that man had to be older than he was, and wearing an emerald-green cloak! The nerve of him! But then it struck Mr. Dursley that this was probably some silly stunt — these people were obviously collecting for something ... yes, that would be it. The traffic moved on and a few minutes later, Mr. Dursley arrived in the Grunnings parking lot, his mind back on drills.\n",
            "20. \n",
            "21. Mr. Dursley always sat with his back to the window in his office on the ninth floor. If he hadn’t, he might have found it harder to concentrate on drills that morning. He didn’t see the owls swooping past in broad daylight, though people down in the street did; they pointed and gazed open-mouthed as owl after owl sped overhead. Most of them had never seen an owl even at nighttime. Mr. Dursley, however, had a perfectly normal, owl-free morning. He yelled at five different people. He made several important telephone calls and shouted a bit more. He was in a very good mood until lunchtime, when he thought he’d stretch his legs and walk across the road to buy himself a bun from the bakery.\n",
            "22. \n",
            "23. He’d forgotten all about the people in cloaks until he passed a group of them next to the baker’s. He eyed them angrily as he passed. He didn’t know why, but they made him uneasy. This bunch were whispering excitedly, too, and he couldn’t see a single collecting tin. It was on his way back past them, clutching a large doughnut in a bag, that he caught a few words of what they were saying.\n",
            "24. \n",
            "25. “The Potters, that’s right, that’s what I heard — ”\n",
            "26. \n",
            "27. “ — yes, their son, Harry — ”\n",
            "28. \n",
            "29. Mr. Dursley stopped dead. Fear flooded him. He looked back at the whisperers as if he wanted to say something to them, but thought better of it.\n",
            "30. \n",
            "31. He dashed back across the road, hurried up to his office, snapped at his secretary not to disturb him, seized his telephone, and had almost finished dialing his home number when he changed his mind. He put the receiver back down and stroked his mustache, thinking ... no, he was being stupid. Potter wasn’t such an unusual name. He was sure there were lots of people called Potter who had a son called Harry. Come to think of it, he wasn’t even sure his nephew was called Harry. He’d never even seen the boy. It might have been Harvey. Or Harold. There was no point in worrying Mrs. Dursley; she always got so upset at any mention of her sister. He didn’t blame her — if he’d had a sister like that ... but all the same, those people in cloaks ... He found it a lot harder to concentrate on drills that afternoon and when he left the building at five o’clock, he was still so worried that he walked straight into someone just outside the door.\n",
            "32. \n"
          ]
        }
      ]
    },
    {
      "cell_type": "code",
      "source": [
        "print(paras[:50])"
      ],
      "metadata": {
        "colab": {
          "base_uri": "https://localhost:8080/",
          "height": 0
        },
        "id": "DzvpRxOZHEaB",
        "outputId": "74366e67-44b7-4fe7-e8f7-f53cf1981478"
      },
      "execution_count": 11,
      "outputs": [
        {
          "output_type": "stream",
          "name": "stdout",
          "text": [
            "['THE BOY WHO LIVED\\n\\n', 'Mr. and Mrs. Dursley, of number four, Privet Drive, were proud to say that they were perfectly normal, thank you very much. They were the last people you’d expect to be involved in anything strange or mysterious, because they just didn’t hold with such nonsense.\\n\\n', 'Mr. Dursley was the director of a firm called Grunnings, which made drills. He was a big, beefy man with hardly any neck, although he did have a very large mustache. Mrs. Dursley was thin and blonde and had nearly twice the usual amount of neck, which came in very useful as she spent so much of her time craning over garden fences, spying on the neighbors. The Dursley s had a small son called Dudley and in their opinion there was no finer boy anywhere.\\n\\n', 'The Dursleys had everything they wanted, but they also had a secret, and their greatest fear was that somebody would discover it. They didn’t think they could bear it if anyone found out about the Potters. Mrs. Potter was Mrs. Dursley’s sister, but they hadn’t met for several years; in fact, Mrs. Dursley pretended she didn’t have a sister, because her sister and her good-for-nothing husband were as unDursleyish as it was possible to be. The Dursleys shuddered to think what the neighbors would say if the Potters arrived in the street. The Dursleys knew that the Potters had a small son, too, but they had never even seen him.\\n\\n', 'This boy was another good reason for keeping the Potters away; they didn’t want Dudley mixing with a child like that.\\n\\n', 'When Mr. and Mrs. Dursley woke up on the dull, gray Tuesday our story starts, there was nothing about the cloudy sky outside to suggest that strange and mysterious things would soon be happening all over the country. Mr. Dursley hummed as he picked out his most boring tie for work, and Mrs. Dursley gossiped away happily as she wrestled a screaming Dudley into his high chair.\\n\\n', 'None of them noticed a large, tawny owl flutter past the window.\\n\\n', 'At half past eight, Mr. Dursley picked up his briefcase, pecked Mrs. Dursley on the cheek, and tried to kiss Dudley good-bye but missed, because Dudley was now having a tantrum and throwing his cereal at the walls. “Little tyke,” chortled Mr. Dursley as he left the house. He got into his car and backed out of number four’s drive.\\n\\n', 'It was on the corner of the street that he noticed the first sign of something peculiar — a cat reading a map. For a second, Mr. Dursley didn’t realize what he had seen — then he jerked his head around to look again. There was a tabby cat standing on the corner of Privet Drive, but there wasn’t a map in sight. What could he have been thinking of? It must have been a trick of the light. Mr. Dursley blinked and stared at the cat. It stared back. As Mr. Dursley drove around the corner and up the road, he watched the cat in his mirror. It was now reading the sign that said Privet Drive — no, looking at the sign; cats couldn’t read maps or signs. Mr. Dursley gave himself a little shake and put the cat out of his mind. As he drove toward town he thought of nothing except a large order of drills he was hoping to get that day.\\n\\n', 'But on the edge of town, drills were driven out of his mind by something else. As he sat in the usual morning traffic jam, he couldn’t help noticing that there seemed to be a lot of strangely dressed people about. People in cloaks. Mr. Dursley couldn’t bear people who dressed in funny clothes — the getups you saw on young people! He supposed this was some stupid new fashion. He drummed his fingers on the steering wheel and his eyes fell on a huddle of these weirdos standing quite close by. They were whispering excitedly together. Mr. Dursley was enraged to see that a couple of them weren’t young at all; why, that man had to be older than he was, and wearing an emerald-green cloak! The nerve of him! But then it struck Mr. Dursley that this was probably some silly stunt — these people were obviously collecting for something ... yes, that would be it. The traffic moved on and a few minutes later, Mr. Dursley arrived in the Grunnings parking lot, his mind back on drills.\\n\\n', 'Mr. Dursley always sat with his back to the window in his office on the ninth floor. If he hadn’t, he might have found it harder to concentrate on drills that morning. He didn’t see the owls swooping past in broad daylight, though people down in the street did; they pointed and gazed open-mouthed as owl after owl sped overhead. Most of them had never seen an owl even at nighttime. Mr. Dursley, however, had a perfectly normal, owl-free morning. He yelled at five different people. He made several important telephone calls and shouted a bit more. He was in a very good mood until lunchtime, when he thought he’d stretch his legs and walk across the road to buy himself a bun from the bakery.\\n\\n', 'He’d forgotten all about the people in cloaks until he passed a group of them next to the baker’s. He eyed them angrily as he passed. He didn’t know why, but they made him uneasy. This bunch were whispering excitedly, too, and he couldn’t see a single collecting tin. It was on his way back past them, clutching a large doughnut in a bag, that he caught a few words of what they were saying.\\n\\n', '“The Potters, that’s right, that’s what I heard — ”\\n\\n', '“ — yes, their son, Harry — ”\\n\\n', 'Mr. Dursley stopped dead. Fear flooded him. He looked back at the whisperers as if he wanted to say something to them, but thought better of it.\\n\\n', 'He dashed back across the road, hurried up to his office, snapped at his secretary not to disturb him, seized his telephone, and had almost finished dialing his home number when he changed his mind. He put the receiver back down and stroked his mustache, thinking ... no, he was being stupid. Potter wasn’t such an unusual name. He was sure there were lots of people called Potter who had a son called Harry. Come to think of it, he wasn’t even sure his nephew was called Harry. He’d never even seen the boy. It might have been Harvey. Or Harold. There was no point in worrying Mrs. Dursley; she always got so upset at any mention of her sister. He didn’t blame her — if he’d had a sister like that ... but all the same, those people in cloaks ... He found it a lot harder to concentrate on drills that afternoon and when he left the building at five o’clock, he was still so worried that he walked straight into someone just outside the door.\\n\\n', '“Sorry,” he grunted, as the tiny old man stumbled and almost fell. It was a few seconds before Mr. Dursley realized that the man was wearing a violet cloak. He didn’t seem at all upset at being almost knocked to the ground. On the contrary, his face split into a wide smile and he said in a squeaky voice that made passersby stare, “Don’t be sorry, my dear sir, for nothing could upset me today! Rejoice, for You- Know-Who has gone at last! Even Muggles like yourself should be celebrating, this happy, happy day!”\\n\\n', 'And the old man hugged Mr. Dursley around the middle and walked off.\\n\\n', 'Mr. Dursley stood rooted to the spot. He had been hugged by a complete stranger. He also thought he had been called a Muggle, whatever that was. He was rattled. He hurried to his car and set off for home, hoping he was imagining things, which he had never hoped before, because he didn’t approve of imagination.\\n\\n', 'As he pulled into the driveway of number four, the first thing he saw — and it didn’t improve his mood — was the tabby cat he’d spotted that morning. It was now sitting on his garden wall. He was sure it was the same one; it had the same markings around its eyes.\\n\\n', '“Shoo!” said Mr. Dursley loudly.\\n\\n', 'The cat didn’t move. It just gave him a stern look.\\n\\n', 'Was this normal cat behavior? Mr. Dursley wondered. Trying to pull himself together, he let himself into the house. He was still determined not to mention anything to his wife.\\n\\n', 'Mrs. Dursley had had a nice, normal day. She told him over dinner all about Mrs. Next Door’s problems with her daughter and how Dudley had learned a new word (“Won’t!”). Mr. Dursley tried to act normally. When Dudley had been put to bed, he went into the living room in time to catch the last report on the evening news:\\n\\n', '“And finally, bird-watchers everywhere have reported that the nation’s owls have been behaving very unusually today. Although owls normally hunt at night and are hardly ever seen in daylight, there have been hundreds of sightings of these birds flying in every direction since sunrise. Experts are unable to explain why the owls have suddenly changed their sleeping pattern.” The newscaster allowed himself a grin. “Most mysterious. And now, over to Jim McGuffin with the weather. Going to be any more showers of owls tonight, Jim?”\\n\\n', '“Well, Ted,” said the weatherman, “I don’t know about that, but it’s not only the owls that have been acting oddly today. Viewers as far apart as Kent, Yorkshire, and Dundee have been phoning in to tell me that instead of the rain I promised yesterday, they’ve had a downpour of shooting stars! Perhaps people have been celebrating Bonfire Night early — it’s not until next week, folks! But I can promise a wet night tonight.”\\n\\n', 'Mr. Dursley sat frozen in his armchair. Shooting stars all over Britain? Owls flying by daylight? Mysterious people in cloaks all over the place? And a whisper, a whisper about the Potters . . . Mrs. Dursley came into the living room carrying two cups of tea. It was no good. He’d have to say something to her. He cleared his throat nervously. “Er — Petunia, dear — you haven’t heard from your sister lately, have you?”\\n\\n', 'As he had expected, Mrs. Dursley looked shocked and angry. After all, they normally pretended she didn’t have a sister.\\n\\n', '“No,” she said sharply. “Why?”\\n\\n', '“Funny stuff on the news,” Mr. Dursley mumbled. “Owls . . . shooting stars . . . and there were a lot of funny-looking people in town today ...”\\n\\n', '“So?” snapped Mrs. Dursley.\\n\\n', '“Well, I just thought ... maybe ... it was something to do with ... you know ... her crowd.”\\n\\n', 'Mrs. Dursley sipped her tea through pursed lips. Mr. Dursley wondered whether he dared tell her he’d heard the name “Potter.” He decided he didn’t dare. Instead he said, as casually as he could, “Their son — he’d be about Dudley’s age now, wouldn’t he?”\\n\\n', '“I suppose so,” said Mrs. Dursley stiffly.\\n\\n', '“What’s his name again? Howard, isn’t it?”\\n\\n', '“Harry. Nasty, common name, if you ask me.”\\n\\n', '“Oh, yes,” said Mr. Dursley, his heart sinking horribly. “Yes, I quite agree.”\\n\\n', 'He didn’t say another word on the subject as they went upstairs to bed. While Mrs. Dursley was in the bathroom, Mr. Dursley crept to the bedroom window and peered down into the front garden. The cat was still there. It was staring down Privet Drive as though it were waiting for something.\\n\\n', 'Was he imagining things? Could all this have anything to do with the Potters? If it did ... if it got out that they were related to a pair of — well, he didn’t think he could bear it.\\n\\n', 'The Dursleys got into bed. Mrs. Dursley fell asleep quickly but Mr. Dursley lay awake, turning it all over in his mind. His last, comforting thought before he fell asleep was that even if the Potters were involved, there was no reason for them to come near him and Mrs. Dursley. The Potters knew very well what he and Petunia thought about them and their kind. ... He couldn’t see how he and Petunia could get mixed up in anything that might be going on — he yawned and turned over — it couldn’t affect them. ...\\n\\n', 'How very wrong he was.\\n\\n', 'Mr. Dursley might have been drifting into an uneasy sleep, but the cat on the wall outside was showing no sign of sleepiness. It was sitting as still as a statue, its eyes fixed unblinkingly on the far corner of Privet Drive. It didn’t so much as quiver when a car door slammed on the next street, nor when two owls swooped overhead. In fact, it was nearly midnight before the cat moved at all.\\n\\n', 'A man appeared on the corner the cat had been watching, appeared so suddenly and silently you’d have thought he’d just popped out of the ground. The cat’s tail twitched and its eyes narrowed.\\n\\n', 'Nothing like this man had ever been seen on Privet Drive. He was tall, thin, and very old, judging by the silver of his hair and beard, which were both long enough to tuck into his belt. He was wearing long robes, a purple cloak that swept the ground, and high-heeled, buckled boots. His blue eyes were light, bright, and sparkling behind half-moon spectacles and his nose was very long and crooked, as though it had been broken at least twice. This man’s name was Albus Dumbledore.\\n\\n', 'Albus Dumbledore didn’t seem to realize that he had just arrived in a street where everything from his name to his boots was unwelcome. He was busy rummaging in his cloak, looking for something. But he did seem to realize he was being watched, because he looked up suddenly at the cat, which was still staring at him from the other end of the street. For some reason, the sight of the cat seemed to amuse him. He chuckled and muttered, “I should have known.”\\n\\n', 'He found what he was looking for in his inside pocket. It seemed to be a silver cigarette lighter. He flicked it open, held it up in the air, and clicked it. The nearest street lamp went out with a little pop. He clicked it again — the next lamp flickered into darkness. Twelve times he clicked the Put-Outer, until the only lights left on the whole street were two tiny pinpricks in the distance, which were the eyes of the cat watching him. If anyone looked out of their window now, even beady-eyed Mrs. Dursley, they wouldn’t be able to see anything that was happening down on the pavement. Dumbledore slipped the Put- Outer back inside his cloak and set off down the street toward number four, where he sat down on the wall next to the cat. He didn’t look at it, but after a moment he spoke to it.\\n\\n', '“Fancy seeing you here, Professor McGonagall.” He turned to smile at the tabby, but it had gone. Instead he was smiling at a rather severe-looking woman who was wearing square glasses exactly the shape of the markings the cat had had around its eyes. She, too, was wearing a cloak, an emerald one. Her black hair was drawn into a tight bun. She looked distinctly ruffled.\\n\\n', '“How did you know it was me?” she asked.\\n\\n', '“My dear Professor, I’ve never seen a cat sit so stiffly.”\\n\\n', '“You’d be stiff if you’d been sitting on a brick wall all day,” said Professor McGonagall.\\n\\n']\n"
          ]
        }
      ]
    },
    {
      "cell_type": "code",
      "source": [
        "print(f\"Length of paras: {len(paras)}\")\n",
        "print(paras[:3])  # preview first few\n"
      ],
      "metadata": {
        "colab": {
          "base_uri": "https://localhost:8080/",
          "height": 0
        },
        "id": "yInRjRVbG-ki",
        "outputId": "3a11cce2-e74f-4fe5-c3b7-ab1dbb9ca14a"
      },
      "execution_count": 13,
      "outputs": [
        {
          "output_type": "stream",
          "name": "stdout",
          "text": [
            "Length of paras: 2898\n",
            "['THE BOY WHO LIVED\\n\\n', 'Mr. and Mrs. Dursley, of number four, Privet Drive, were proud to say that they were perfectly normal, thank you very much. They were the last people you’d expect to be involved in anything strange or mysterious, because they just didn’t hold with such nonsense.\\n\\n', 'Mr. Dursley was the director of a firm called Grunnings, which made drills. He was a big, beefy man with hardly any neck, although he did have a very large mustache. Mrs. Dursley was thin and blonde and had nearly twice the usual amount of neck, which came in very useful as she spent so much of her time craning over garden fences, spying on the neighbors. The Dursley s had a small son called Dudley and in their opinion there was no finer boy anywhere.\\n\\n']\n"
          ]
        }
      ]
    },
    {
      "cell_type": "markdown",
      "source": [
        "we will convert our list(see above), to huggingface compatible dataset"
      ],
      "metadata": {
        "id": "WBJIt0CMKkqQ"
      }
    },
    {
      "cell_type": "code",
      "source": [
        "!pip install transformers datasets accelerate --quiet\n",
        "\n",
        "\n",
        "\n",
        "from datasets import Dataset\n",
        "\n",
        "# Creaing dataset from paras\n",
        "dataset = Dataset.from_dict({\"content\": paras})\n",
        "\n"
      ],
      "metadata": {
        "id": "fadke6LlIp-t"
      },
      "execution_count": 14,
      "outputs": []
    },
    {
      "cell_type": "code",
      "source": [
        "import transformers\n",
        "print(transformers.__version__)\n"
      ],
      "metadata": {
        "colab": {
          "base_uri": "https://localhost:8080/",
          "height": 0
        },
        "id": "K8UfNx4r_D5G",
        "outputId": "29891b49-05cf-44ce-d4fc-5ce3c4762dc7"
      },
      "execution_count": 13,
      "outputs": [
        {
          "output_type": "stream",
          "name": "stdout",
          "text": [
            "4.51.3\n"
          ]
        }
      ]
    },
    {
      "cell_type": "code",
      "source": [
        "for i in range(5):\n",
        "    print(f\"{i+1}. {dataset[i]['content']}\")\n"
      ],
      "metadata": {
        "colab": {
          "base_uri": "https://localhost:8080/",
          "height": 0
        },
        "id": "jCrPMowyNOwO",
        "outputId": "b9691c7f-7fd1-4d8b-cccc-fd5ba96b3cd3"
      },
      "execution_count": 15,
      "outputs": [
        {
          "output_type": "stream",
          "name": "stdout",
          "text": [
            "1. THE BOY WHO LIVED\n",
            "\n",
            "\n",
            "2. Mr. and Mrs. Dursley, of number four, Privet Drive, were proud to say that they were perfectly normal, thank you very much. They were the last people you’d expect to be involved in anything strange or mysterious, because they just didn’t hold with such nonsense.\n",
            "\n",
            "\n",
            "3. Mr. Dursley was the director of a firm called Grunnings, which made drills. He was a big, beefy man with hardly any neck, although he did have a very large mustache. Mrs. Dursley was thin and blonde and had nearly twice the usual amount of neck, which came in very useful as she spent so much of her time craning over garden fences, spying on the neighbors. The Dursley s had a small son called Dudley and in their opinion there was no finer boy anywhere.\n",
            "\n",
            "\n",
            "4. The Dursleys had everything they wanted, but they also had a secret, and their greatest fear was that somebody would discover it. They didn’t think they could bear it if anyone found out about the Potters. Mrs. Potter was Mrs. Dursley’s sister, but they hadn’t met for several years; in fact, Mrs. Dursley pretended she didn’t have a sister, because her sister and her good-for-nothing husband were as unDursleyish as it was possible to be. The Dursleys shuddered to think what the neighbors would say if the Potters arrived in the street. The Dursleys knew that the Potters had a small son, too, but they had never even seen him.\n",
            "\n",
            "\n",
            "5. This boy was another good reason for keeping the Potters away; they didn’t want Dudley mixing with a child like that.\n",
            "\n",
            "\n"
          ]
        }
      ]
    },
    {
      "cell_type": "code",
      "source": [
        "print(f\"Rows in dataset: {len(dataset)}\")\n"
      ],
      "metadata": {
        "colab": {
          "base_uri": "https://localhost:8080/"
        },
        "id": "LWYY_4h6HZB1",
        "outputId": "84efc365-f92c-43ed-ecf8-69ca54eb3587"
      },
      "execution_count": 36,
      "outputs": [
        {
          "output_type": "stream",
          "name": "stdout",
          "text": [
            "Rows in dataset: 2898\n"
          ]
        }
      ]
    },
    {
      "cell_type": "markdown",
      "source": [
        "Beginning of tokenization (For below code reference: https://huggingface.co/learn/llm-course/en/chapter7/6)"
      ],
      "metadata": {
        "id": "HYfFRicWKwGq"
      }
    },
    {
      "cell_type": "code",
      "source": [
        "from transformers import AutoTokenizer\n",
        "\n",
        "context_length = 128\n",
        "tokenizer = AutoTokenizer.from_pretrained(\"gpt2\")\n",
        "tokenizer.pad_token = tokenizer.eos_token  #avoiding padding errors\n",
        "\n"
      ],
      "metadata": {
        "id": "oxl40EG1X_zu",
        "colab": {
          "base_uri": "https://localhost:8080/",
          "height": 0
        },
        "outputId": "66746052-959a-4fef-e3aa-8d88751371ea"
      },
      "execution_count": 19,
      "outputs": [
        {
          "output_type": "stream",
          "name": "stderr",
          "text": [
            "/usr/local/lib/python3.11/dist-packages/huggingface_hub/utils/_auth.py:94: UserWarning: \n",
            "The secret `HF_TOKEN` does not exist in your Colab secrets.\n",
            "To authenticate with the Hugging Face Hub, create a token in your settings tab (https://huggingface.co/settings/tokens), set it as secret in your Google Colab and restart your session.\n",
            "You will be able to reuse this secret in all of your notebooks.\n",
            "Please note that authentication is recommended but still optional to access public models or datasets.\n",
            "  warnings.warn(\n"
          ]
        }
      ]
    },
    {
      "cell_type": "markdown",
      "source": [
        "Tokenization function: This will split our paragraphs into multiple tokens"
      ],
      "metadata": {
        "id": "GrzVABeDLfF0"
      }
    },
    {
      "cell_type": "code",
      "source": [
        "def tokenize_function(example):\n",
        "    outputs = tokenizer(\n",
        "        example[\"content\"],\n",
        "        truncation=True,\n",
        "        max_length=128,\n",
        "        return_overflowing_tokens=True,\n",
        "        return_length=True,\n",
        "    )\n",
        "    return {\"input_ids\": outputs[\"input_ids\"]}\n",
        "\n",
        "\n",
        "    # Keep only full-length chunks\n",
        "    input_batch = []\n",
        "    for length, input_ids in zip(outputs[\"length\"], outputs[\"input_ids\"]):\n",
        "        if length == context_length:\n",
        "            input_batch.append(input_ids)\n",
        "    return {\"input_ids\": input_batch}\n",
        "\n"
      ],
      "metadata": {
        "id": "DRHU-sZr1qdp"
      },
      "execution_count": 20,
      "outputs": []
    },
    {
      "cell_type": "markdown",
      "source": [
        "This will apply the tokinzation function over our dataset"
      ],
      "metadata": {
        "id": "2E_eQYubLv0w"
      }
    },
    {
      "cell_type": "code",
      "source": [
        "tokenized_dataset = dataset.map(\n",
        "    tokenize_function,\n",
        "    batched=True,\n",
        "    remove_columns=[\"content\"]\n",
        ")\n",
        "\n",
        "print(len(tokenized_dataset))\n",
        "\n"
      ],
      "metadata": {
        "colab": {
          "base_uri": "https://localhost:8080/",
          "height": 66,
          "referenced_widgets": [
            "21fea9b821fc46e7b6e4009b5406576c",
            "27e4c6b4271a41ceb25e832d3d2020b1",
            "6208292c42bf439dac1eb55da06c2ccc",
            "2f68f91dede94d729a6da97eabcafc6f",
            "764484a4f98c4616a57e0a08d3669f76",
            "7b2e6148a87547308c0f0b16d64daba2",
            "6dfb72fe6154436187424c01af34f68f",
            "6980cccc86a447b7bbe9a6cb115a652d",
            "0678d30f31ec4cfc80f4b928c6b82188",
            "509609fbc6204e378c47742e6db9622b",
            "bbe843f8e9ad47be930ca305790e805f"
          ]
        },
        "id": "C4r4z1Ms1_qR",
        "outputId": "6eb6150c-5ef7-44fd-c1e8-1b14a8f386fe"
      },
      "execution_count": 21,
      "outputs": [
        {
          "output_type": "display_data",
          "data": {
            "text/plain": [
              "Map:   0%|          | 0/2898 [00:00<?, ? examples/s]"
            ],
            "application/vnd.jupyter.widget-view+json": {
              "version_major": 2,
              "version_minor": 0,
              "model_id": "21fea9b821fc46e7b6e4009b5406576c"
            }
          },
          "metadata": {}
        },
        {
          "output_type": "stream",
          "name": "stdout",
          "text": [
            "2988\n"
          ]
        }
      ]
    },
    {
      "cell_type": "code",
      "source": [
        "print(tokenized_dataset)\n"
      ],
      "metadata": {
        "colab": {
          "base_uri": "https://localhost:8080/",
          "height": 0
        },
        "id": "A2IgCFsA2Cwm",
        "outputId": "e2faffb8-97d3-4aa2-f59e-bc4b76c0681d"
      },
      "execution_count": 22,
      "outputs": [
        {
          "output_type": "stream",
          "name": "stdout",
          "text": [
            "Dataset({\n",
            "    features: ['input_ids'],\n",
            "    num_rows: 2988\n",
            "})\n"
          ]
        }
      ]
    },
    {
      "cell_type": "code",
      "source": [
        "for i in range(3):\n",
        "    print(f\"Chunk {i+1} token IDs:\")\n",
        "    print(tokenized_dataset[i]['input_ids'])\n",
        "    print(\"-\" * 50)\n"
      ],
      "metadata": {
        "colab": {
          "base_uri": "https://localhost:8080/"
        },
        "id": "GsURH4ie2P3r",
        "outputId": "f24a2d57-dc78-452f-e7cc-c64d1c9c3a6c"
      },
      "execution_count": 37,
      "outputs": [
        {
          "output_type": "stream",
          "name": "stdout",
          "text": [
            "Chunk 1 token IDs:\n",
            "[10970, 16494, 56, 19494, 406, 3824, 1961, 628]\n",
            "--------------------------------------------------\n",
            "Chunk 2 token IDs:\n",
            "[5246, 13, 290, 9074, 13, 360, 1834, 1636, 11, 286, 1271, 1440, 11, 4389, 16809, 9974, 11, 547, 6613, 284, 910, 326, 484, 547, 7138, 3487, 11, 5875, 345, 845, 881, 13, 1119, 547, 262, 938, 661, 345, 447, 247, 67, 1607, 284, 307, 2950, 287, 1997, 6283, 393, 11428, 11, 780, 484, 655, 1422, 447, 247, 83, 1745, 351, 884, 18149, 13, 628]\n",
            "--------------------------------------------------\n",
            "Chunk 3 token IDs:\n",
            "[5246, 13, 360, 1834, 1636, 373, 262, 3437, 286, 257, 4081, 1444, 1902, 20935, 654, 11, 543, 925, 26721, 13, 679, 373, 257, 1263, 11, 12023, 88, 582, 351, 8941, 597, 7393, 11, 3584, 339, 750, 423, 257, 845, 1588, 49303, 13, 9074, 13, 360, 1834, 1636, 373, 7888, 290, 21541, 290, 550, 3016, 5403, 262, 6678, 2033, 286, 7393, 11, 543, 1625, 287, 845, 4465, 355, 673, 3377, 523, 881, 286, 607, 640, 1067, 7574, 625, 11376, 35771, 11, 23649, 319, 262, 12020, 13, 383, 360, 1834, 1636, 264, 550, 257, 1402, 3367, 1444, 37198, 290, 287, 511, 4459, 612, 373, 645, 38575, 2933, 6609, 13, 628]\n",
            "--------------------------------------------------\n"
          ]
        }
      ]
    },
    {
      "cell_type": "code",
      "source": [
        "for i in range(3):\n",
        "    print(f\"Chunk {i+1} decoded text:\")\n",
        "    print(tokenizer.decode(tokenized_dataset[i]['input_ids']))\n",
        "    print(\"-\" * 50)\n"
      ],
      "metadata": {
        "colab": {
          "base_uri": "https://localhost:8080/"
        },
        "id": "xHX5xQ3X2TXR",
        "outputId": "3d0be1d8-5078-4177-c1a7-ced4d65a18d5"
      },
      "execution_count": 38,
      "outputs": [
        {
          "output_type": "stream",
          "name": "stdout",
          "text": [
            "Chunk 1 decoded text:\n",
            "THE BOY WHO LIVED\n",
            "\n",
            "\n",
            "--------------------------------------------------\n",
            "Chunk 2 decoded text:\n",
            "Mr. and Mrs. Dursley, of number four, Privet Drive, were proud to say that they were perfectly normal, thank you very much. They were the last people you’d expect to be involved in anything strange or mysterious, because they just didn’t hold with such nonsense.\n",
            "\n",
            "\n",
            "--------------------------------------------------\n",
            "Chunk 3 decoded text:\n",
            "Mr. Dursley was the director of a firm called Grunnings, which made drills. He was a big, beefy man with hardly any neck, although he did have a very large mustache. Mrs. Dursley was thin and blonde and had nearly twice the usual amount of neck, which came in very useful as she spent so much of her time craning over garden fences, spying on the neighbors. The Dursley s had a small son called Dudley and in their opinion there was no finer boy anywhere.\n",
            "\n",
            "\n",
            "--------------------------------------------------\n"
          ]
        }
      ]
    },
    {
      "cell_type": "markdown",
      "source": [
        "DataCollatorForLanguageModeling prepared the batches for training, creating labels, and by setting mlm=False, we are using clm"
      ],
      "metadata": {
        "id": "CnX_CKU0NIM8"
      }
    },
    {
      "cell_type": "code",
      "source": [
        "from transformers import DataCollatorForLanguageModeling\n",
        "\n",
        "data_collator = DataCollatorForLanguageModeling(tokenizer=tokenizer, mlm=False)\n",
        "\n"
      ],
      "metadata": {
        "id": "Wbewk1S03d59"
      },
      "execution_count": 25,
      "outputs": []
    },
    {
      "cell_type": "markdown",
      "source": [
        "Initializing GPT2 model"
      ],
      "metadata": {
        "id": "lZjhoEovNi9F"
      }
    },
    {
      "cell_type": "code",
      "source": [
        "from transformers import GPT2LMHeadModel, AutoConfig\n",
        "\n",
        "config = AutoConfig.from_pretrained(\n",
        "    \"gpt2\",\n",
        "    vocab_size=len(tokenizer),\n",
        "    n_ctx=context_length,\n",
        "    bos_token_id=tokenizer.bos_token_id,\n",
        "    eos_token_id=tokenizer.eos_token_id,\n",
        ")\n",
        "\n",
        "model = GPT2LMHeadModel(config)\n",
        "\n"
      ],
      "metadata": {
        "id": "LoV3zb4-3htK"
      },
      "execution_count": 27,
      "outputs": []
    },
    {
      "cell_type": "markdown",
      "source": [
        "configuring the training arguments"
      ],
      "metadata": {
        "id": "uYgp3Gi5OAM2"
      }
    },
    {
      "cell_type": "code",
      "source": [
        "from transformers import TrainingArguments, Trainer\n",
        "\n",
        "training_args = TrainingArguments(\n",
        "    output_dir=\"./code-gpt2\",\n",
        "    per_device_train_batch_size=4,\n",
        "    gradient_accumulation_steps=8,\n",
        "    num_train_epochs=3,\n",
        "    learning_rate=5e-4,\n",
        "    warmup_steps=1000,\n",
        "    weight_decay=0.1,\n",
        "    lr_scheduler_type=\"cosine\",\n",
        "    logging_steps=50,\n",
        "    save_steps=500,\n",
        "    fp16=True,\n",
        "    push_to_hub=False,\n",
        "    report_to=\"none\",\n",
        ")\n",
        "\n",
        "trainer = Trainer(\n",
        "    model=model,\n",
        "    args=training_args,\n",
        "    train_dataset=tokenized_dataset,\n",
        "    tokenizer=tokenizer,\n",
        "    data_collator=data_collator,\n",
        ")\n"
      ],
      "metadata": {
        "colab": {
          "base_uri": "https://localhost:8080/",
          "height": 0
        },
        "id": "MrvHAkzm3k7i",
        "outputId": "c86173c5-423d-4f6f-f282-0d42154268ce"
      },
      "execution_count": 30,
      "outputs": [
        {
          "output_type": "stream",
          "name": "stderr",
          "text": [
            "<ipython-input-30-c5397413ba3b>:19: FutureWarning: `tokenizer` is deprecated and will be removed in version 5.0.0 for `Trainer.__init__`. Use `processing_class` instead.\n",
            "  trainer = Trainer(\n"
          ]
        }
      ]
    },
    {
      "cell_type": "code",
      "source": [
        "trainer.train()\n"
      ],
      "metadata": {
        "colab": {
          "base_uri": "https://localhost:8080/",
          "height": 267
        },
        "id": "2IO4U3YiCBlF",
        "outputId": "86e7c8d6-575b-45d2-d175-4a47b8e5182e"
      },
      "execution_count": 31,
      "outputs": [
        {
          "output_type": "display_data",
          "data": {
            "text/plain": [
              "<IPython.core.display.HTML object>"
            ],
            "text/html": [
              "\n",
              "    <div>\n",
              "      \n",
              "      <progress value='279' max='279' style='width:300px; height:20px; vertical-align: middle;'></progress>\n",
              "      [279/279 02:41, Epoch 2/3]\n",
              "    </div>\n",
              "    <table border=\"1\" class=\"dataframe\">\n",
              "  <thead>\n",
              " <tr style=\"text-align: left;\">\n",
              "      <th>Step</th>\n",
              "      <th>Training Loss</th>\n",
              "    </tr>\n",
              "  </thead>\n",
              "  <tbody>\n",
              "    <tr>\n",
              "      <td>50</td>\n",
              "      <td>6.151400</td>\n",
              "    </tr>\n",
              "    <tr>\n",
              "      <td>100</td>\n",
              "      <td>5.652600</td>\n",
              "    </tr>\n",
              "    <tr>\n",
              "      <td>150</td>\n",
              "      <td>5.193600</td>\n",
              "    </tr>\n",
              "    <tr>\n",
              "      <td>200</td>\n",
              "      <td>4.905700</td>\n",
              "    </tr>\n",
              "    <tr>\n",
              "      <td>250</td>\n",
              "      <td>4.662400</td>\n",
              "    </tr>\n",
              "  </tbody>\n",
              "</table><p>"
            ]
          },
          "metadata": {}
        },
        {
          "output_type": "execute_result",
          "data": {
            "text/plain": [
              "TrainOutput(global_step=279, training_loss=5.232138083399837, metrics={'train_runtime': 161.7339, 'train_samples_per_second': 55.424, 'train_steps_per_second': 1.725, 'total_flos': 338781450240000.0, 'train_loss': 5.232138083399837, 'epoch': 2.9745649263721554})"
            ]
          },
          "metadata": {},
          "execution_count": 31
        }
      ]
    },
    {
      "cell_type": "code",
      "source": [
        "model.save_pretrained(\"./code-gpt2\")\n",
        "tokenizer.save_pretrained(\"./code-gpt2\")\n"
      ],
      "metadata": {
        "colab": {
          "base_uri": "https://localhost:8080/",
          "height": 0
        },
        "id": "ZlotADJUJp5M",
        "outputId": "3ca66484-3d8b-4ac7-91ca-ed8c262a2ec3"
      },
      "execution_count": 33,
      "outputs": [
        {
          "output_type": "execute_result",
          "data": {
            "text/plain": [
              "('./code-gpt2/tokenizer_config.json',\n",
              " './code-gpt2/special_tokens_map.json',\n",
              " './code-gpt2/vocab.json',\n",
              " './code-gpt2/merges.txt',\n",
              " './code-gpt2/added_tokens.json',\n",
              " './code-gpt2/tokenizer.json')"
            ]
          },
          "metadata": {},
          "execution_count": 33
        }
      ]
    },
    {
      "cell_type": "code",
      "source": [
        "from transformers import pipeline, GPT2LMHeadModel, GPT2Tokenizer\n",
        "import torch\n",
        "\n",
        "\n",
        "model = GPT2LMHeadModel.from_pretrained(\"./code-gpt2\")\n",
        "tokenizer = GPT2Tokenizer.from_pretrained(\"./code-gpt2\")\n",
        "tokenizer.pad_token = tokenizer.eos_token\n",
        "\n",
        "\n",
        "device = 0 if torch.cuda.is_available() else -1\n",
        "\n",
        "\n",
        "text_gen = pipeline(\"text-generation\", model=model, tokenizer=tokenizer, device=device)\n",
        "\n",
        "\n",
        "prompt = \"The Dursleys had everything they wanted, but\"\n",
        "\n",
        "\n",
        "output = text_gen(prompt, max_length=100, num_return_sequences=1)\n",
        "\n",
        "\n",
        "print(output[0][\"generated_text\"])\n"
      ],
      "metadata": {
        "colab": {
          "base_uri": "https://localhost:8080/"
        },
        "id": "wM8ZH1koGKfO",
        "outputId": "ac6141ae-7232-4bf5-81d0-e46b72df7e95"
      },
      "execution_count": 39,
      "outputs": [
        {
          "output_type": "stream",
          "name": "stderr",
          "text": [
            "Device set to use cuda:0\n",
            "Truncation was not explicitly activated but `max_length` is provided a specific value, please use `truncation=True` to explicitly truncate examples to max length. Defaulting to 'longest_first' truncation strategy. If you encode pairs of sequences (GLUE-style) with the tokenizer you can select this strategy more precisely by providing a specific strategy to `truncation`.\n"
          ]
        },
        {
          "output_type": "stream",
          "name": "stdout",
          "text": [
            "The Dursleys had everything they wanted, but was on. In he was going to be that a large room. Harry had been been a large way into the front of them. Dudley was, it was.\n",
            "\n",
            " is a few behind all.\n",
            "\n",
            " was a lot for, but his head a cloak — was sure she’s one of all, Harry’d put that was Harry was as though he hadn’s letter were all it. They had been were going to keep\n"
          ]
        }
      ]
    },
    {
      "cell_type": "markdown",
      "source": [
        "Results are not that great, I will train this on much larger set."
      ],
      "metadata": {
        "id": "wPzX4ByKOP8J"
      }
    },
    {
      "cell_type": "code",
      "source": [],
      "metadata": {
        "id": "wMNmHKcRJm_L"
      },
      "execution_count": null,
      "outputs": []
    }
  ]
}